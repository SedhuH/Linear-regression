{
 "cells": [
  {
   "cell_type": "code",
   "execution_count": 1,
   "id": "61ba1b79",
   "metadata": {
    "id": "61ba1b79"
   },
   "outputs": [],
   "source": [
    "import pandas as pd\n",
    "import numpy as np\n",
    "import matplotlib.pyplot as plt\n",
    "from sklearn.linear_model import LinearRegression\n",
    "from scipy.stats import pearsonr\n",
    "import seaborn as sns\n",
    "from sklearn.model_selection import train_test_split"
   ]
  },
  {
   "cell_type": "code",
   "execution_count": 2,
   "id": "fb229d02",
   "metadata": {
    "id": "fb229d02",
    "outputId": "4c5e1413-b89c-44d5-f41b-f99c4781c6b0"
   },
   "outputs": [
    {
     "data": {
      "text/html": [
       "<div>\n",
       "<style scoped>\n",
       "    .dataframe tbody tr th:only-of-type {\n",
       "        vertical-align: middle;\n",
       "    }\n",
       "\n",
       "    .dataframe tbody tr th {\n",
       "        vertical-align: top;\n",
       "    }\n",
       "\n",
       "    .dataframe thead th {\n",
       "        text-align: right;\n",
       "    }\n",
       "</style>\n",
       "<table border=\"1\" class=\"dataframe\">\n",
       "  <thead>\n",
       "    <tr style=\"text-align: right;\">\n",
       "      <th></th>\n",
       "      <th>Species</th>\n",
       "      <th>Weight</th>\n",
       "      <th>Length1</th>\n",
       "      <th>Length2</th>\n",
       "      <th>Length3</th>\n",
       "      <th>Height</th>\n",
       "      <th>Width</th>\n",
       "    </tr>\n",
       "  </thead>\n",
       "  <tbody>\n",
       "    <tr>\n",
       "      <th>0</th>\n",
       "      <td>Bream</td>\n",
       "      <td>242.0</td>\n",
       "      <td>23.2</td>\n",
       "      <td>25.4</td>\n",
       "      <td>30.0</td>\n",
       "      <td>11.5200</td>\n",
       "      <td>4.0200</td>\n",
       "    </tr>\n",
       "    <tr>\n",
       "      <th>1</th>\n",
       "      <td>Bream</td>\n",
       "      <td>290.0</td>\n",
       "      <td>24.0</td>\n",
       "      <td>26.3</td>\n",
       "      <td>31.2</td>\n",
       "      <td>12.4800</td>\n",
       "      <td>4.3056</td>\n",
       "    </tr>\n",
       "    <tr>\n",
       "      <th>2</th>\n",
       "      <td>Bream</td>\n",
       "      <td>340.0</td>\n",
       "      <td>23.9</td>\n",
       "      <td>26.5</td>\n",
       "      <td>31.1</td>\n",
       "      <td>12.3778</td>\n",
       "      <td>4.6961</td>\n",
       "    </tr>\n",
       "    <tr>\n",
       "      <th>3</th>\n",
       "      <td>Bream</td>\n",
       "      <td>363.0</td>\n",
       "      <td>26.3</td>\n",
       "      <td>29.0</td>\n",
       "      <td>33.5</td>\n",
       "      <td>12.7300</td>\n",
       "      <td>4.4555</td>\n",
       "    </tr>\n",
       "    <tr>\n",
       "      <th>4</th>\n",
       "      <td>Bream</td>\n",
       "      <td>430.0</td>\n",
       "      <td>26.5</td>\n",
       "      <td>29.0</td>\n",
       "      <td>34.0</td>\n",
       "      <td>12.4440</td>\n",
       "      <td>5.1340</td>\n",
       "    </tr>\n",
       "  </tbody>\n",
       "</table>\n",
       "</div>"
      ],
      "text/plain": [
       "  Species  Weight  Length1  Length2  Length3   Height   Width\n",
       "0   Bream   242.0     23.2     25.4     30.0  11.5200  4.0200\n",
       "1   Bream   290.0     24.0     26.3     31.2  12.4800  4.3056\n",
       "2   Bream   340.0     23.9     26.5     31.1  12.3778  4.6961\n",
       "3   Bream   363.0     26.3     29.0     33.5  12.7300  4.4555\n",
       "4   Bream   430.0     26.5     29.0     34.0  12.4440  5.1340"
      ]
     },
     "execution_count": 2,
     "metadata": {},
     "output_type": "execute_result"
    }
   ],
   "source": [
    "df=pd.read_csv(\"Fish_dataset.csv\")\n",
    "df.head()"
   ]
  },
  {
   "cell_type": "code",
   "execution_count": 3,
   "id": "9903df92",
   "metadata": {
    "id": "9903df92",
    "outputId": "e31c51b2-6902-4a59-bf6f-edbb8499a955"
   },
   "outputs": [
    {
     "name": "stdout",
     "output_type": "stream",
     "text": [
      "<class 'pandas.core.frame.DataFrame'>\n",
      "RangeIndex: 159 entries, 0 to 158\n",
      "Data columns (total 7 columns):\n",
      " #   Column   Non-Null Count  Dtype  \n",
      "---  ------   --------------  -----  \n",
      " 0   Species  159 non-null    object \n",
      " 1   Weight   159 non-null    float64\n",
      " 2   Length1  159 non-null    float64\n",
      " 3   Length2  159 non-null    float64\n",
      " 4   Length3  159 non-null    float64\n",
      " 5   Height   159 non-null    float64\n",
      " 6   Width    159 non-null    float64\n",
      "dtypes: float64(6), object(1)\n",
      "memory usage: 8.8+ KB\n"
     ]
    }
   ],
   "source": [
    "df.info()"
   ]
  },
  {
   "cell_type": "markdown",
   "id": "8fd90f7c",
   "metadata": {
    "id": "8fd90f7c"
   },
   "source": [
    "\n"
   ]
  },
  {
   "cell_type": "code",
   "execution_count": 4,
   "id": "4190b6e4",
   "metadata": {
    "id": "4190b6e4",
    "outputId": "60f6ab4c-f451-4ecf-aefa-4ee8f863ba0a"
   },
   "outputs": [
    {
     "data": {
      "text/plain": [
       "Perch        56\n",
       "Bream        35\n",
       "Roach        20\n",
       "Pike         17\n",
       "Smelt        14\n",
       "Parkki       11\n",
       "Whitefish     6\n",
       "Name: Species, dtype: int64"
      ]
     },
     "execution_count": 4,
     "metadata": {},
     "output_type": "execute_result"
    }
   ],
   "source": [
    "\n",
    "total_count=df['Species'].value_counts()\n",
    "total_count"
   ]
  },
  {
   "cell_type": "code",
   "execution_count": 5,
   "id": "9c3a0ab7",
   "metadata": {
    "id": "9c3a0ab7",
    "outputId": "ad8fe254-0f43-4f38-b51e-4e790db92c9f"
   },
   "outputs": [
    {
     "data": {
      "text/html": [
       "<div>\n",
       "<style scoped>\n",
       "    .dataframe tbody tr th:only-of-type {\n",
       "        vertical-align: middle;\n",
       "    }\n",
       "\n",
       "    .dataframe tbody tr th {\n",
       "        vertical-align: top;\n",
       "    }\n",
       "\n",
       "    .dataframe thead th {\n",
       "        text-align: right;\n",
       "    }\n",
       "</style>\n",
       "<table border=\"1\" class=\"dataframe\">\n",
       "  <thead>\n",
       "    <tr style=\"text-align: right;\">\n",
       "      <th></th>\n",
       "      <th>Species</th>\n",
       "    </tr>\n",
       "  </thead>\n",
       "  <tbody>\n",
       "    <tr>\n",
       "      <th>Perch</th>\n",
       "      <td>56</td>\n",
       "    </tr>\n",
       "    <tr>\n",
       "      <th>Bream</th>\n",
       "      <td>35</td>\n",
       "    </tr>\n",
       "    <tr>\n",
       "      <th>Roach</th>\n",
       "      <td>20</td>\n",
       "    </tr>\n",
       "    <tr>\n",
       "      <th>Pike</th>\n",
       "      <td>17</td>\n",
       "    </tr>\n",
       "    <tr>\n",
       "      <th>Smelt</th>\n",
       "      <td>14</td>\n",
       "    </tr>\n",
       "    <tr>\n",
       "      <th>Parkki</th>\n",
       "      <td>11</td>\n",
       "    </tr>\n",
       "    <tr>\n",
       "      <th>Whitefish</th>\n",
       "      <td>6</td>\n",
       "    </tr>\n",
       "  </tbody>\n",
       "</table>\n",
       "</div>"
      ],
      "text/plain": [
       "           Species\n",
       "Perch           56\n",
       "Bream           35\n",
       "Roach           20\n",
       "Pike            17\n",
       "Smelt           14\n",
       "Parkki          11\n",
       "Whitefish        6"
      ]
     },
     "execution_count": 5,
     "metadata": {},
     "output_type": "execute_result"
    }
   ],
   "source": [
    "count=pd.DataFrame(total_count)\n",
    "count"
   ]
  },
  {
   "cell_type": "code",
   "execution_count": 6,
   "id": "ee195b8d",
   "metadata": {
    "id": "ee195b8d",
    "outputId": "e5c3b7d2-f2e1-4121-fe1d-8ec31fc9b995",
    "scrolled": true
   },
   "outputs": [
    {
     "data": {
      "text/plain": [
       "<AxesSubplot:>"
      ]
     },
     "execution_count": 6,
     "metadata": {},
     "output_type": "execute_result"
    },
    {
     "data": {
      "image/png": "[encoded data removed]",
      "text/plain": [
       "<Figure size 360x720 with 1 Axes>"
      ]
     },
     "metadata": {
      "needs_background": "light"
     },
     "output_type": "display_data"
    }
   ],
   "source": [
    "\n",
    "plt.figure(figsize=(5,10))\n",
    "\n",
    "df['Species'].value_counts().plot(kind='bar')"
   ]
  },
  {
   "cell_type": "markdown",
   "id": "c912bf8f",
   "metadata": {
    "id": "c912bf8f"
   },
   "source": [
    "### 2. Identify outliers and remove if any?"
   ]
  },
  {
   "cell_type": "code",
   "execution_count": 7,
   "id": "690ed304",
   "metadata": {
    "id": "690ed304",
    "outputId": "6024fd97-8aa5-4a70-e8c6-c5bbf8b591cb"
   },
   "outputs": [
    {
     "data": {
      "text/html": [
       "<div>\n",
       "<style scoped>\n",
       "    .dataframe tbody tr th:only-of-type {\n",
       "        vertical-align: middle;\n",
       "    }\n",
       "\n",
       "    .dataframe tbody tr th {\n",
       "        vertical-align: top;\n",
       "    }\n",
       "\n",
       "    .dataframe thead th {\n",
       "        text-align: right;\n",
       "    }\n",
       "</style>\n",
       "<table border=\"1\" class=\"dataframe\">\n",
       "  <thead>\n",
       "    <tr style=\"text-align: right;\">\n",
       "      <th></th>\n",
       "      <th>Species</th>\n",
       "      <th>Weight</th>\n",
       "      <th>Length1</th>\n",
       "      <th>Length2</th>\n",
       "      <th>Length3</th>\n",
       "      <th>Height</th>\n",
       "      <th>Width</th>\n",
       "    </tr>\n",
       "  </thead>\n",
       "  <tbody>\n",
       "    <tr>\n",
       "      <th>0</th>\n",
       "      <td>Bream</td>\n",
       "      <td>242.0</td>\n",
       "      <td>23.2</td>\n",
       "      <td>25.4</td>\n",
       "      <td>30.0</td>\n",
       "      <td>11.5200</td>\n",
       "      <td>4.0200</td>\n",
       "    </tr>\n",
       "    <tr>\n",
       "      <th>1</th>\n",
       "      <td>Bream</td>\n",
       "      <td>290.0</td>\n",
       "      <td>24.0</td>\n",
       "      <td>26.3</td>\n",
       "      <td>31.2</td>\n",
       "      <td>12.4800</td>\n",
       "      <td>4.3056</td>\n",
       "    </tr>\n",
       "    <tr>\n",
       "      <th>2</th>\n",
       "      <td>Bream</td>\n",
       "      <td>340.0</td>\n",
       "      <td>23.9</td>\n",
       "      <td>26.5</td>\n",
       "      <td>31.1</td>\n",
       "      <td>12.3778</td>\n",
       "      <td>4.6961</td>\n",
       "    </tr>\n",
       "    <tr>\n",
       "      <th>3</th>\n",
       "      <td>Bream</td>\n",
       "      <td>363.0</td>\n",
       "      <td>26.3</td>\n",
       "      <td>29.0</td>\n",
       "      <td>33.5</td>\n",
       "      <td>12.7300</td>\n",
       "      <td>4.4555</td>\n",
       "    </tr>\n",
       "    <tr>\n",
       "      <th>4</th>\n",
       "      <td>Bream</td>\n",
       "      <td>430.0</td>\n",
       "      <td>26.5</td>\n",
       "      <td>29.0</td>\n",
       "      <td>34.0</td>\n",
       "      <td>12.4440</td>\n",
       "      <td>5.1340</td>\n",
       "    </tr>\n",
       "    <tr>\n",
       "      <th>...</th>\n",
       "      <td>...</td>\n",
       "      <td>...</td>\n",
       "      <td>...</td>\n",
       "      <td>...</td>\n",
       "      <td>...</td>\n",
       "      <td>...</td>\n",
       "      <td>...</td>\n",
       "    </tr>\n",
       "    <tr>\n",
       "      <th>154</th>\n",
       "      <td>Smelt</td>\n",
       "      <td>12.2</td>\n",
       "      <td>11.5</td>\n",
       "      <td>12.2</td>\n",
       "      <td>13.4</td>\n",
       "      <td>2.0904</td>\n",
       "      <td>1.3936</td>\n",
       "    </tr>\n",
       "    <tr>\n",
       "      <th>155</th>\n",
       "      <td>Smelt</td>\n",
       "      <td>13.4</td>\n",
       "      <td>11.7</td>\n",
       "      <td>12.4</td>\n",
       "      <td>13.5</td>\n",
       "      <td>2.4300</td>\n",
       "      <td>1.2690</td>\n",
       "    </tr>\n",
       "    <tr>\n",
       "      <th>156</th>\n",
       "      <td>Smelt</td>\n",
       "      <td>12.2</td>\n",
       "      <td>12.1</td>\n",
       "      <td>13.0</td>\n",
       "      <td>13.8</td>\n",
       "      <td>2.2770</td>\n",
       "      <td>1.2558</td>\n",
       "    </tr>\n",
       "    <tr>\n",
       "      <th>157</th>\n",
       "      <td>Smelt</td>\n",
       "      <td>19.7</td>\n",
       "      <td>13.2</td>\n",
       "      <td>14.3</td>\n",
       "      <td>15.2</td>\n",
       "      <td>2.8728</td>\n",
       "      <td>2.0672</td>\n",
       "    </tr>\n",
       "    <tr>\n",
       "      <th>158</th>\n",
       "      <td>Smelt</td>\n",
       "      <td>19.9</td>\n",
       "      <td>13.8</td>\n",
       "      <td>15.0</td>\n",
       "      <td>16.2</td>\n",
       "      <td>2.9322</td>\n",
       "      <td>1.8792</td>\n",
       "    </tr>\n",
       "  </tbody>\n",
       "</table>\n",
       "<p>159 rows × 7 columns</p>\n",
       "</div>"
      ],
      "text/plain": [
       "    Species  Weight  Length1  Length2  Length3   Height   Width\n",
       "0     Bream   242.0     23.2     25.4     30.0  11.5200  4.0200\n",
       "1     Bream   290.0     24.0     26.3     31.2  12.4800  4.3056\n",
       "2     Bream   340.0     23.9     26.5     31.1  12.3778  4.6961\n",
       "3     Bream   363.0     26.3     29.0     33.5  12.7300  4.4555\n",
       "4     Bream   430.0     26.5     29.0     34.0  12.4440  5.1340\n",
       "..      ...     ...      ...      ...      ...      ...     ...\n",
       "154   Smelt    12.2     11.5     12.2     13.4   2.0904  1.3936\n",
       "155   Smelt    13.4     11.7     12.4     13.5   2.4300  1.2690\n",
       "156   Smelt    12.2     12.1     13.0     13.8   2.2770  1.2558\n",
       "157   Smelt    19.7     13.2     14.3     15.2   2.8728  2.0672\n",
       "158   Smelt    19.9     13.8     15.0     16.2   2.9322  1.8792\n",
       "\n",
       "[159 rows x 7 columns]"
      ]
     },
     "execution_count": 7,
     "metadata": {},
     "output_type": "execute_result"
    }
   ],
   "source": [
    "df=pd.read_csv(\"Fish_dataset.csv\")\n",
    "df"
   ]
  },
  {
   "cell_type": "code",
   "execution_count": 8,
   "id": "77df5e00",
   "metadata": {
    "id": "77df5e00",
    "outputId": "f93eb12e-fd55-4e05-cd69-f9bf71cd0416"
   },
   "outputs": [
    {
     "name": "stderr",
     "output_type": "stream",
     "text": [
      "C:\\Users\\91875\\anaconda3\\lib\\site-packages\\seaborn\\_decorators.py:36: FutureWarning: Pass the following variable as a keyword arg: x. From version 0.12, the only valid positional argument will be `data`, and passing other arguments without an explicit keyword will result in an error or misinterpretation.\n",
      "  warnings.warn(\n"
     ]
    },
    {
     "data": {
      "text/plain": [
       "<AxesSubplot:xlabel='Weight'>"
      ]
     },
     "execution_count": 8,
     "metadata": {},
     "output_type": "execute_result"
    },
    {
     "data": {
      "image/png": "[encoded data removed]",
      "text/plain": [
       "<Figure size 432x288 with 1 Axes>"
      ]
     },
     "metadata": {
      "needs_background": "light"
     },
     "output_type": "display_data"
    }
   ],
   "source": [
    "\n",
    "sns.boxplot(df.Weight)"
   ]
  },
  {
   "cell_type": "code",
   "execution_count": 9,
   "id": "01ecf9d0",
   "metadata": {
    "id": "01ecf9d0"
   },
   "outputs": [],
   "source": [
    "\n",
    "df.drop(df.index[df.Weight>1250],axis=0,inplace=True)"
   ]
  },
  {
   "cell_type": "code",
   "execution_count": 10,
   "id": "1be9ebce",
   "metadata": {
    "id": "1be9ebce",
    "outputId": "03ec66f7-791e-47cd-8df1-46e7de2731b9"
   },
   "outputs": [
    {
     "name": "stderr",
     "output_type": "stream",
     "text": [
      "C:\\Users\\91875\\anaconda3\\lib\\site-packages\\seaborn\\_decorators.py:36: FutureWarning: Pass the following variable as a keyword arg: x. From version 0.12, the only valid positional argument will be `data`, and passing other arguments without an explicit keyword will result in an error or misinterpretation.\n",
      "  warnings.warn(\n"
     ]
    },
    {
     "data": {
      "text/plain": [
       "<AxesSubplot:xlabel='Weight'>"
      ]
     },
     "execution_count": 10,
     "metadata": {},
     "output_type": "execute_result"
    },
    {
     "data": {
      "image/png": "[encoded data removed]",
      "text/plain": [
       "<Figure size 432x288 with 1 Axes>"
      ]
     },
     "metadata": {
      "needs_background": "light"
     },
     "output_type": "display_data"
    }
   ],
   "source": [
    "\n",
    "sns.boxplot(df.Weight)"
   ]
  },
  {
   "cell_type": "code",
   "execution_count": 11,
   "id": "b8285b25",
   "metadata": {
    "id": "b8285b25",
    "outputId": "9d1bc5bb-e6a4-491d-8be1-72ee2412cd20"
   },
   "outputs": [
    {
     "data": {
      "text/html": [
       "<div>\n",
       "<style scoped>\n",
       "    .dataframe tbody tr th:only-of-type {\n",
       "        vertical-align: middle;\n",
       "    }\n",
       "\n",
       "    .dataframe tbody tr th {\n",
       "        vertical-align: top;\n",
       "    }\n",
       "\n",
       "    .dataframe thead th {\n",
       "        text-align: right;\n",
       "    }\n",
       "</style>\n",
       "<table border=\"1\" class=\"dataframe\">\n",
       "  <thead>\n",
       "    <tr style=\"text-align: right;\">\n",
       "      <th></th>\n",
       "      <th>Species</th>\n",
       "      <th>Weight</th>\n",
       "      <th>Length1</th>\n",
       "      <th>Length2</th>\n",
       "      <th>Length3</th>\n",
       "      <th>Height</th>\n",
       "      <th>Width</th>\n",
       "    </tr>\n",
       "  </thead>\n",
       "  <tbody>\n",
       "    <tr>\n",
       "      <th>0</th>\n",
       "      <td>Bream</td>\n",
       "      <td>242.0</td>\n",
       "      <td>23.2</td>\n",
       "      <td>25.4</td>\n",
       "      <td>30.0</td>\n",
       "      <td>11.5200</td>\n",
       "      <td>4.0200</td>\n",
       "    </tr>\n",
       "    <tr>\n",
       "      <th>1</th>\n",
       "      <td>Bream</td>\n",
       "      <td>290.0</td>\n",
       "      <td>24.0</td>\n",
       "      <td>26.3</td>\n",
       "      <td>31.2</td>\n",
       "      <td>12.4800</td>\n",
       "      <td>4.3056</td>\n",
       "    </tr>\n",
       "    <tr>\n",
       "      <th>2</th>\n",
       "      <td>Bream</td>\n",
       "      <td>340.0</td>\n",
       "      <td>23.9</td>\n",
       "      <td>26.5</td>\n",
       "      <td>31.1</td>\n",
       "      <td>12.3778</td>\n",
       "      <td>4.6961</td>\n",
       "    </tr>\n",
       "    <tr>\n",
       "      <th>3</th>\n",
       "      <td>Bream</td>\n",
       "      <td>363.0</td>\n",
       "      <td>26.3</td>\n",
       "      <td>29.0</td>\n",
       "      <td>33.5</td>\n",
       "      <td>12.7300</td>\n",
       "      <td>4.4555</td>\n",
       "    </tr>\n",
       "    <tr>\n",
       "      <th>4</th>\n",
       "      <td>Bream</td>\n",
       "      <td>430.0</td>\n",
       "      <td>26.5</td>\n",
       "      <td>29.0</td>\n",
       "      <td>34.0</td>\n",
       "      <td>12.4440</td>\n",
       "      <td>5.1340</td>\n",
       "    </tr>\n",
       "    <tr>\n",
       "      <th>...</th>\n",
       "      <td>...</td>\n",
       "      <td>...</td>\n",
       "      <td>...</td>\n",
       "      <td>...</td>\n",
       "      <td>...</td>\n",
       "      <td>...</td>\n",
       "      <td>...</td>\n",
       "    </tr>\n",
       "    <tr>\n",
       "      <th>154</th>\n",
       "      <td>Smelt</td>\n",
       "      <td>12.2</td>\n",
       "      <td>11.5</td>\n",
       "      <td>12.2</td>\n",
       "      <td>13.4</td>\n",
       "      <td>2.0904</td>\n",
       "      <td>1.3936</td>\n",
       "    </tr>\n",
       "    <tr>\n",
       "      <th>155</th>\n",
       "      <td>Smelt</td>\n",
       "      <td>13.4</td>\n",
       "      <td>11.7</td>\n",
       "      <td>12.4</td>\n",
       "      <td>13.5</td>\n",
       "      <td>2.4300</td>\n",
       "      <td>1.2690</td>\n",
       "    </tr>\n",
       "    <tr>\n",
       "      <th>156</th>\n",
       "      <td>Smelt</td>\n",
       "      <td>12.2</td>\n",
       "      <td>12.1</td>\n",
       "      <td>13.0</td>\n",
       "      <td>13.8</td>\n",
       "      <td>2.2770</td>\n",
       "      <td>1.2558</td>\n",
       "    </tr>\n",
       "    <tr>\n",
       "      <th>157</th>\n",
       "      <td>Smelt</td>\n",
       "      <td>19.7</td>\n",
       "      <td>13.2</td>\n",
       "      <td>14.3</td>\n",
       "      <td>15.2</td>\n",
       "      <td>2.8728</td>\n",
       "      <td>2.0672</td>\n",
       "    </tr>\n",
       "    <tr>\n",
       "      <th>158</th>\n",
       "      <td>Smelt</td>\n",
       "      <td>19.9</td>\n",
       "      <td>13.8</td>\n",
       "      <td>15.0</td>\n",
       "      <td>16.2</td>\n",
       "      <td>2.9322</td>\n",
       "      <td>1.8792</td>\n",
       "    </tr>\n",
       "  </tbody>\n",
       "</table>\n",
       "<p>156 rows × 7 columns</p>\n",
       "</div>"
      ],
      "text/plain": [
       "    Species  Weight  Length1  Length2  Length3   Height   Width\n",
       "0     Bream   242.0     23.2     25.4     30.0  11.5200  4.0200\n",
       "1     Bream   290.0     24.0     26.3     31.2  12.4800  4.3056\n",
       "2     Bream   340.0     23.9     26.5     31.1  12.3778  4.6961\n",
       "3     Bream   363.0     26.3     29.0     33.5  12.7300  4.4555\n",
       "4     Bream   430.0     26.5     29.0     34.0  12.4440  5.1340\n",
       "..      ...     ...      ...      ...      ...      ...     ...\n",
       "154   Smelt    12.2     11.5     12.2     13.4   2.0904  1.3936\n",
       "155   Smelt    13.4     11.7     12.4     13.5   2.4300  1.2690\n",
       "156   Smelt    12.2     12.1     13.0     13.8   2.2770  1.2558\n",
       "157   Smelt    19.7     13.2     14.3     15.2   2.8728  2.0672\n",
       "158   Smelt    19.9     13.8     15.0     16.2   2.9322  1.8792\n",
       "\n",
       "[156 rows x 7 columns]"
      ]
     },
     "execution_count": 11,
     "metadata": {},
     "output_type": "execute_result"
    }
   ],
   "source": [
    "df"
   ]
  },
  {
   "cell_type": "markdown",
   "id": "a0a98413",
   "metadata": {
    "id": "a0a98413"
   },
   "source": [
    "### 3.Build a regression model and print regression equation?\n"
   ]
  },
  {
   "cell_type": "code",
   "execution_count": 12,
   "id": "55ed4240",
   "metadata": {
    "id": "55ed4240",
    "outputId": "58092c3b-22a9-4b73-9459-2a66e8b336fc"
   },
   "outputs": [
    {
     "data": {
      "text/html": [
       "<div>\n",
       "<style scoped>\n",
       "    .dataframe tbody tr th:only-of-type {\n",
       "        vertical-align: middle;\n",
       "    }\n",
       "\n",
       "    .dataframe tbody tr th {\n",
       "        vertical-align: top;\n",
       "    }\n",
       "\n",
       "    .dataframe thead th {\n",
       "        text-align: right;\n",
       "    }\n",
       "</style>\n",
       "<table border=\"1\" class=\"dataframe\">\n",
       "  <thead>\n",
       "    <tr style=\"text-align: right;\">\n",
       "      <th></th>\n",
       "      <th>Species</th>\n",
       "      <th>Weight</th>\n",
       "      <th>Length1</th>\n",
       "      <th>Length2</th>\n",
       "      <th>Length3</th>\n",
       "      <th>Height</th>\n",
       "      <th>Width</th>\n",
       "    </tr>\n",
       "  </thead>\n",
       "  <tbody>\n",
       "    <tr>\n",
       "      <th>0</th>\n",
       "      <td>Bream</td>\n",
       "      <td>242.0</td>\n",
       "      <td>23.2</td>\n",
       "      <td>25.4</td>\n",
       "      <td>30.0</td>\n",
       "      <td>11.5200</td>\n",
       "      <td>4.0200</td>\n",
       "    </tr>\n",
       "    <tr>\n",
       "      <th>1</th>\n",
       "      <td>Bream</td>\n",
       "      <td>290.0</td>\n",
       "      <td>24.0</td>\n",
       "      <td>26.3</td>\n",
       "      <td>31.2</td>\n",
       "      <td>12.4800</td>\n",
       "      <td>4.3056</td>\n",
       "    </tr>\n",
       "    <tr>\n",
       "      <th>2</th>\n",
       "      <td>Bream</td>\n",
       "      <td>340.0</td>\n",
       "      <td>23.9</td>\n",
       "      <td>26.5</td>\n",
       "      <td>31.1</td>\n",
       "      <td>12.3778</td>\n",
       "      <td>4.6961</td>\n",
       "    </tr>\n",
       "    <tr>\n",
       "      <th>3</th>\n",
       "      <td>Bream</td>\n",
       "      <td>363.0</td>\n",
       "      <td>26.3</td>\n",
       "      <td>29.0</td>\n",
       "      <td>33.5</td>\n",
       "      <td>12.7300</td>\n",
       "      <td>4.4555</td>\n",
       "    </tr>\n",
       "    <tr>\n",
       "      <th>4</th>\n",
       "      <td>Bream</td>\n",
       "      <td>430.0</td>\n",
       "      <td>26.5</td>\n",
       "      <td>29.0</td>\n",
       "      <td>34.0</td>\n",
       "      <td>12.4440</td>\n",
       "      <td>5.1340</td>\n",
       "    </tr>\n",
       "    <tr>\n",
       "      <th>...</th>\n",
       "      <td>...</td>\n",
       "      <td>...</td>\n",
       "      <td>...</td>\n",
       "      <td>...</td>\n",
       "      <td>...</td>\n",
       "      <td>...</td>\n",
       "      <td>...</td>\n",
       "    </tr>\n",
       "    <tr>\n",
       "      <th>154</th>\n",
       "      <td>Smelt</td>\n",
       "      <td>12.2</td>\n",
       "      <td>11.5</td>\n",
       "      <td>12.2</td>\n",
       "      <td>13.4</td>\n",
       "      <td>2.0904</td>\n",
       "      <td>1.3936</td>\n",
       "    </tr>\n",
       "    <tr>\n",
       "      <th>155</th>\n",
       "      <td>Smelt</td>\n",
       "      <td>13.4</td>\n",
       "      <td>11.7</td>\n",
       "      <td>12.4</td>\n",
       "      <td>13.5</td>\n",
       "      <td>2.4300</td>\n",
       "      <td>1.2690</td>\n",
       "    </tr>\n",
       "    <tr>\n",
       "      <th>156</th>\n",
       "      <td>Smelt</td>\n",
       "      <td>12.2</td>\n",
       "      <td>12.1</td>\n",
       "      <td>13.0</td>\n",
       "      <td>13.8</td>\n",
       "      <td>2.2770</td>\n",
       "      <td>1.2558</td>\n",
       "    </tr>\n",
       "    <tr>\n",
       "      <th>157</th>\n",
       "      <td>Smelt</td>\n",
       "      <td>19.7</td>\n",
       "      <td>13.2</td>\n",
       "      <td>14.3</td>\n",
       "      <td>15.2</td>\n",
       "      <td>2.8728</td>\n",
       "      <td>2.0672</td>\n",
       "    </tr>\n",
       "    <tr>\n",
       "      <th>158</th>\n",
       "      <td>Smelt</td>\n",
       "      <td>19.9</td>\n",
       "      <td>13.8</td>\n",
       "      <td>15.0</td>\n",
       "      <td>16.2</td>\n",
       "      <td>2.9322</td>\n",
       "      <td>1.8792</td>\n",
       "    </tr>\n",
       "  </tbody>\n",
       "</table>\n",
       "<p>156 rows × 7 columns</p>\n",
       "</div>"
      ],
      "text/plain": [
       "    Species  Weight  Length1  Length2  Length3   Height   Width\n",
       "0     Bream   242.0     23.2     25.4     30.0  11.5200  4.0200\n",
       "1     Bream   290.0     24.0     26.3     31.2  12.4800  4.3056\n",
       "2     Bream   340.0     23.9     26.5     31.1  12.3778  4.6961\n",
       "3     Bream   363.0     26.3     29.0     33.5  12.7300  4.4555\n",
       "4     Bream   430.0     26.5     29.0     34.0  12.4440  5.1340\n",
       "..      ...     ...      ...      ...      ...      ...     ...\n",
       "154   Smelt    12.2     11.5     12.2     13.4   2.0904  1.3936\n",
       "155   Smelt    13.4     11.7     12.4     13.5   2.4300  1.2690\n",
       "156   Smelt    12.2     12.1     13.0     13.8   2.2770  1.2558\n",
       "157   Smelt    19.7     13.2     14.3     15.2   2.8728  2.0672\n",
       "158   Smelt    19.9     13.8     15.0     16.2   2.9322  1.8792\n",
       "\n",
       "[156 rows x 7 columns]"
      ]
     },
     "execution_count": 12,
     "metadata": {},
     "output_type": "execute_result"
    }
   ],
   "source": [
    "\n",
    "df"
   ]
  },
  {
   "cell_type": "code",
   "execution_count": 13,
   "id": "da3eafc1",
   "metadata": {
    "id": "da3eafc1",
    "outputId": "84d7c3f8-2fc8-4fda-ef42-1580cdc566d2"
   },
   "outputs": [
    {
     "name": "stdout",
     "output_type": "stream",
     "text": [
      "<class 'pandas.core.frame.DataFrame'>\n",
      "Int64Index: 156 entries, 0 to 158\n",
      "Data columns (total 7 columns):\n",
      " #   Column   Non-Null Count  Dtype   \n",
      "---  ------   --------------  -----   \n",
      " 0   Species  156 non-null    category\n",
      " 1   Weight   156 non-null    float64 \n",
      " 2   Length1  156 non-null    float64 \n",
      " 3   Length2  156 non-null    float64 \n",
      " 4   Length3  156 non-null    float64 \n",
      " 5   Height   156 non-null    float64 \n",
      " 6   Width    156 non-null    float64 \n",
      "dtypes: category(1), float64(6)\n",
      "memory usage: 9.0 KB\n"
     ]
    }
   ],
   "source": [
    "df.Species = df.Species.astype(\"category\")\n",
    "df.info()"
   ]
  },
  {
   "cell_type": "code",
   "execution_count": 14,
   "id": "2a677088",
   "metadata": {
    "id": "2a677088",
    "outputId": "bd29eecf-7605-4233-d648-cab0988ba34b"
   },
   "outputs": [
    {
     "data": {
      "text/plain": [
       "Species    0\n",
       "Weight     0\n",
       "Length1    0\n",
       "Length2    0\n",
       "Length3    0\n",
       "Height     0\n",
       "Width      0\n",
       "dtype: int64"
      ]
     },
     "execution_count": 14,
     "metadata": {},
     "output_type": "execute_result"
    }
   ],
   "source": [
    "df.isna().sum()"
   ]
  },
  {
   "cell_type": "markdown",
   "id": "de267fa1",
   "metadata": {
    "id": "de267fa1"
   },
   "source": [
    "### Splitting DV and IDV"
   ]
  },
  {
   "cell_type": "code",
   "execution_count": 15,
   "id": "54dcc7c1",
   "metadata": {
    "id": "54dcc7c1",
    "outputId": "d7cceed8-903c-4dce-90d6-22d5d398cf1f"
   },
   "outputs": [
    {
     "data": {
      "text/html": [
       "<div>\n",
       "<style scoped>\n",
       "    .dataframe tbody tr th:only-of-type {\n",
       "        vertical-align: middle;\n",
       "    }\n",
       "\n",
       "    .dataframe tbody tr th {\n",
       "        vertical-align: top;\n",
       "    }\n",
       "\n",
       "    .dataframe thead th {\n",
       "        text-align: right;\n",
       "    }\n",
       "</style>\n",
       "<table border=\"1\" class=\"dataframe\">\n",
       "  <thead>\n",
       "    <tr style=\"text-align: right;\">\n",
       "      <th></th>\n",
       "      <th>Species</th>\n",
       "      <th>Length1</th>\n",
       "      <th>Length2</th>\n",
       "      <th>Length3</th>\n",
       "      <th>Height</th>\n",
       "      <th>Width</th>\n",
       "    </tr>\n",
       "  </thead>\n",
       "  <tbody>\n",
       "    <tr>\n",
       "      <th>0</th>\n",
       "      <td>Bream</td>\n",
       "      <td>23.2</td>\n",
       "      <td>25.4</td>\n",
       "      <td>30.0</td>\n",
       "      <td>11.5200</td>\n",
       "      <td>4.0200</td>\n",
       "    </tr>\n",
       "    <tr>\n",
       "      <th>1</th>\n",
       "      <td>Bream</td>\n",
       "      <td>24.0</td>\n",
       "      <td>26.3</td>\n",
       "      <td>31.2</td>\n",
       "      <td>12.4800</td>\n",
       "      <td>4.3056</td>\n",
       "    </tr>\n",
       "    <tr>\n",
       "      <th>2</th>\n",
       "      <td>Bream</td>\n",
       "      <td>23.9</td>\n",
       "      <td>26.5</td>\n",
       "      <td>31.1</td>\n",
       "      <td>12.3778</td>\n",
       "      <td>4.6961</td>\n",
       "    </tr>\n",
       "    <tr>\n",
       "      <th>3</th>\n",
       "      <td>Bream</td>\n",
       "      <td>26.3</td>\n",
       "      <td>29.0</td>\n",
       "      <td>33.5</td>\n",
       "      <td>12.7300</td>\n",
       "      <td>4.4555</td>\n",
       "    </tr>\n",
       "    <tr>\n",
       "      <th>4</th>\n",
       "      <td>Bream</td>\n",
       "      <td>26.5</td>\n",
       "      <td>29.0</td>\n",
       "      <td>34.0</td>\n",
       "      <td>12.4440</td>\n",
       "      <td>5.1340</td>\n",
       "    </tr>\n",
       "  </tbody>\n",
       "</table>\n",
       "</div>"
      ],
      "text/plain": [
       "  Species  Length1  Length2  Length3   Height   Width\n",
       "0   Bream     23.2     25.4     30.0  11.5200  4.0200\n",
       "1   Bream     24.0     26.3     31.2  12.4800  4.3056\n",
       "2   Bream     23.9     26.5     31.1  12.3778  4.6961\n",
       "3   Bream     26.3     29.0     33.5  12.7300  4.4555\n",
       "4   Bream     26.5     29.0     34.0  12.4440  5.1340"
      ]
     },
     "execution_count": 15,
     "metadata": {},
     "output_type": "execute_result"
    }
   ],
   "source": [
    "\n",
    "idv=df[['Species','Length1','Length2','Length3','Height','Width']]\n",
    "idv.head()"
   ]
  },
  {
   "cell_type": "code",
   "execution_count": 16,
   "id": "f7c29c3f",
   "metadata": {
    "id": "f7c29c3f",
    "outputId": "da91722a-5b5b-4012-d7f4-dd366a0e72fa"
   },
   "outputs": [
    {
     "data": {
      "text/html": [
       "<div>\n",
       "<style scoped>\n",
       "    .dataframe tbody tr th:only-of-type {\n",
       "        vertical-align: middle;\n",
       "    }\n",
       "\n",
       "    .dataframe tbody tr th {\n",
       "        vertical-align: top;\n",
       "    }\n",
       "\n",
       "    .dataframe thead th {\n",
       "        text-align: right;\n",
       "    }\n",
       "</style>\n",
       "<table border=\"1\" class=\"dataframe\">\n",
       "  <thead>\n",
       "    <tr style=\"text-align: right;\">\n",
       "      <th></th>\n",
       "      <th>Species</th>\n",
       "    </tr>\n",
       "  </thead>\n",
       "  <tbody>\n",
       "    <tr>\n",
       "      <th>0</th>\n",
       "      <td>Bream</td>\n",
       "    </tr>\n",
       "    <tr>\n",
       "      <th>1</th>\n",
       "      <td>Bream</td>\n",
       "    </tr>\n",
       "    <tr>\n",
       "      <th>2</th>\n",
       "      <td>Bream</td>\n",
       "    </tr>\n",
       "    <tr>\n",
       "      <th>3</th>\n",
       "      <td>Bream</td>\n",
       "    </tr>\n",
       "    <tr>\n",
       "      <th>4</th>\n",
       "      <td>Bream</td>\n",
       "    </tr>\n",
       "  </tbody>\n",
       "</table>\n",
       "</div>"
      ],
      "text/plain": [
       "  Species\n",
       "0   Bream\n",
       "1   Bream\n",
       "2   Bream\n",
       "3   Bream\n",
       "4   Bream"
      ]
     },
     "execution_count": 16,
     "metadata": {},
     "output_type": "execute_result"
    }
   ],
   "source": [
    "\n",
    "idv_c=idv[['Species']]\n",
    "idv_c.head()"
   ]
  },
  {
   "cell_type": "code",
   "execution_count": 17,
   "id": "9dbb41c2",
   "metadata": {
    "id": "9dbb41c2",
    "outputId": "b0011cf1-6cdc-44f7-bc7f-0ede223cf531"
   },
   "outputs": [
    {
     "data": {
      "text/html": [
       "<div>\n",
       "<style scoped>\n",
       "    .dataframe tbody tr th:only-of-type {\n",
       "        vertical-align: middle;\n",
       "    }\n",
       "\n",
       "    .dataframe tbody tr th {\n",
       "        vertical-align: top;\n",
       "    }\n",
       "\n",
       "    .dataframe thead th {\n",
       "        text-align: right;\n",
       "    }\n",
       "</style>\n",
       "<table border=\"1\" class=\"dataframe\">\n",
       "  <thead>\n",
       "    <tr style=\"text-align: right;\">\n",
       "      <th></th>\n",
       "      <th>Length1</th>\n",
       "      <th>Length2</th>\n",
       "      <th>Length3</th>\n",
       "      <th>Height</th>\n",
       "      <th>Width</th>\n",
       "    </tr>\n",
       "  </thead>\n",
       "  <tbody>\n",
       "    <tr>\n",
       "      <th>0</th>\n",
       "      <td>23.2</td>\n",
       "      <td>25.4</td>\n",
       "      <td>30.0</td>\n",
       "      <td>11.5200</td>\n",
       "      <td>4.0200</td>\n",
       "    </tr>\n",
       "    <tr>\n",
       "      <th>1</th>\n",
       "      <td>24.0</td>\n",
       "      <td>26.3</td>\n",
       "      <td>31.2</td>\n",
       "      <td>12.4800</td>\n",
       "      <td>4.3056</td>\n",
       "    </tr>\n",
       "    <tr>\n",
       "      <th>2</th>\n",
       "      <td>23.9</td>\n",
       "      <td>26.5</td>\n",
       "      <td>31.1</td>\n",
       "      <td>12.3778</td>\n",
       "      <td>4.6961</td>\n",
       "    </tr>\n",
       "    <tr>\n",
       "      <th>3</th>\n",
       "      <td>26.3</td>\n",
       "      <td>29.0</td>\n",
       "      <td>33.5</td>\n",
       "      <td>12.7300</td>\n",
       "      <td>4.4555</td>\n",
       "    </tr>\n",
       "    <tr>\n",
       "      <th>4</th>\n",
       "      <td>26.5</td>\n",
       "      <td>29.0</td>\n",
       "      <td>34.0</td>\n",
       "      <td>12.4440</td>\n",
       "      <td>5.1340</td>\n",
       "    </tr>\n",
       "  </tbody>\n",
       "</table>\n",
       "</div>"
      ],
      "text/plain": [
       "   Length1  Length2  Length3   Height   Width\n",
       "0     23.2     25.4     30.0  11.5200  4.0200\n",
       "1     24.0     26.3     31.2  12.4800  4.3056\n",
       "2     23.9     26.5     31.1  12.3778  4.6961\n",
       "3     26.3     29.0     33.5  12.7300  4.4555\n",
       "4     26.5     29.0     34.0  12.4440  5.1340"
      ]
     },
     "execution_count": 17,
     "metadata": {},
     "output_type": "execute_result"
    }
   ],
   "source": [
    "idv_n=idv.iloc[:,1:]\n",
    "idv_n.head()"
   ]
  },
  {
   "cell_type": "code",
   "execution_count": 18,
   "id": "0e1c025c",
   "metadata": {
    "id": "0e1c025c",
    "outputId": "bc60ab35-f6a5-4cc0-c3c1-81df8ebcd161"
   },
   "outputs": [
    {
     "data": {
      "text/plain": [
       "0    242.0\n",
       "1    290.0\n",
       "2    340.0\n",
       "3    363.0\n",
       "4    430.0\n",
       "Name: Weight, dtype: float64"
      ]
     },
     "execution_count": 18,
     "metadata": {},
     "output_type": "execute_result"
    }
   ],
   "source": [
    "dv=df.iloc[:,1]\n",
    "dv.head()\n"
   ]
  },
  {
   "cell_type": "code",
   "execution_count": 19,
   "id": "39c77631",
   "metadata": {
    "id": "39c77631",
    "outputId": "56e86d5a-d1ca-43fe-bd52-3d530ccc595d"
   },
   "outputs": [
    {
     "data": {
      "text/html": [
       "<div>\n",
       "<style scoped>\n",
       "    .dataframe tbody tr th:only-of-type {\n",
       "        vertical-align: middle;\n",
       "    }\n",
       "\n",
       "    .dataframe tbody tr th {\n",
       "        vertical-align: top;\n",
       "    }\n",
       "\n",
       "    .dataframe thead th {\n",
       "        text-align: right;\n",
       "    }\n",
       "</style>\n",
       "<table border=\"1\" class=\"dataframe\">\n",
       "  <thead>\n",
       "    <tr style=\"text-align: right;\">\n",
       "      <th></th>\n",
       "      <th>Weight</th>\n",
       "      <th>Length1</th>\n",
       "      <th>Length2</th>\n",
       "      <th>Length3</th>\n",
       "      <th>Height</th>\n",
       "      <th>Width</th>\n",
       "    </tr>\n",
       "  </thead>\n",
       "  <tbody>\n",
       "    <tr>\n",
       "      <th>0</th>\n",
       "      <td>242.0</td>\n",
       "      <td>23.2</td>\n",
       "      <td>25.4</td>\n",
       "      <td>30.0</td>\n",
       "      <td>11.5200</td>\n",
       "      <td>4.0200</td>\n",
       "    </tr>\n",
       "    <tr>\n",
       "      <th>1</th>\n",
       "      <td>290.0</td>\n",
       "      <td>24.0</td>\n",
       "      <td>26.3</td>\n",
       "      <td>31.2</td>\n",
       "      <td>12.4800</td>\n",
       "      <td>4.3056</td>\n",
       "    </tr>\n",
       "    <tr>\n",
       "      <th>2</th>\n",
       "      <td>340.0</td>\n",
       "      <td>23.9</td>\n",
       "      <td>26.5</td>\n",
       "      <td>31.1</td>\n",
       "      <td>12.3778</td>\n",
       "      <td>4.6961</td>\n",
       "    </tr>\n",
       "    <tr>\n",
       "      <th>3</th>\n",
       "      <td>363.0</td>\n",
       "      <td>26.3</td>\n",
       "      <td>29.0</td>\n",
       "      <td>33.5</td>\n",
       "      <td>12.7300</td>\n",
       "      <td>4.4555</td>\n",
       "    </tr>\n",
       "    <tr>\n",
       "      <th>4</th>\n",
       "      <td>430.0</td>\n",
       "      <td>26.5</td>\n",
       "      <td>29.0</td>\n",
       "      <td>34.0</td>\n",
       "      <td>12.4440</td>\n",
       "      <td>5.1340</td>\n",
       "    </tr>\n",
       "  </tbody>\n",
       "</table>\n",
       "</div>"
      ],
      "text/plain": [
       "   Weight  Length1  Length2  Length3   Height   Width\n",
       "0   242.0     23.2     25.4     30.0  11.5200  4.0200\n",
       "1   290.0     24.0     26.3     31.2  12.4800  4.3056\n",
       "2   340.0     23.9     26.5     31.1  12.3778  4.6961\n",
       "3   363.0     26.3     29.0     33.5  12.7300  4.4555\n",
       "4   430.0     26.5     29.0     34.0  12.4440  5.1340"
      ]
     },
     "execution_count": 19,
     "metadata": {},
     "output_type": "execute_result"
    }
   ],
   "source": [
    "both=df.iloc[:,1:]\n",
    "both.head()"
   ]
  },
  {
   "cell_type": "code",
   "execution_count": 20,
   "id": "d0b38989",
   "metadata": {
    "id": "d0b38989",
    "outputId": "29841124-f2b3-4007-c495-32cc3a557000"
   },
   "outputs": [
    {
     "data": {
      "text/plain": [
       "<AxesSubplot:xlabel='Weight', ylabel='Density'>"
      ]
     },
     "execution_count": 20,
     "metadata": {},
     "output_type": "execute_result"
    },
    {
     "data": {
      "image/png": "[encoded data removed]",
      "text/plain": [
       "<Figure size 432x288 with 1 Axes>"
      ]
     },
     "metadata": {
      "needs_background": "light"
     },
     "output_type": "display_data"
    }
   ],
   "source": [
    "\n",
    "sns.kdeplot(dv)"
   ]
  },
  {
   "cell_type": "code",
   "execution_count": 23,
   "id": "04ff972d",
   "metadata": {
    "id": "04ff972d"
   },
   "outputs": [],
   "source": [
    "from scipy.stats import pearsonr"
   ]
  },
  {
   "cell_type": "code",
   "execution_count": 24,
   "id": "d1679ad8",
   "metadata": {
    "id": "d1679ad8",
    "outputId": "d2cd0cfc-5ab2-47ab-c460-5300acb0cdda"
   },
   "outputs": [
    {
     "name": "stdout",
     "output_type": "stream",
     "text": [
      "Length1 0.8957425609788277 4.343723387866899e-56\n",
      "Significant.\n",
      "\n",
      "Length2 0.899759050950671 2.4714981862120374e-57\n",
      "Significant.\n",
      "\n",
      "Length3 0.9072921554536855 8.113849316457461e-60\n",
      "Significant.\n",
      "\n",
      "Height 0.8018712156822994 2.867672256971377e-36\n",
      "Significant.\n",
      "\n",
      "Width 0.9234321722602117 6.124586053795755e-66\n",
      "Significant.\n",
      "\n"
     ]
    }
   ],
   "source": [
    "for i in idv_n:\n",
    "    r,p=pearsonr(dv,idv_n[i])\n",
    "    print(i,r,p)\n",
    "    if p>0.05:\n",
    "        print(\"Not Significant.\")\n",
    "    else:\n",
    "        print(\"Significant.\")\n",
    "        print()\n"
   ]
  },
  {
   "cell_type": "code",
   "execution_count": 25,
   "id": "8624737f",
   "metadata": {
    "id": "8624737f",
    "outputId": "1f745965-be29-4dbd-c945-ec98ab15180a"
   },
   "outputs": [
    {
     "data": {
      "text/html": [
       "<div>\n",
       "<style scoped>\n",
       "    .dataframe tbody tr th:only-of-type {\n",
       "        vertical-align: middle;\n",
       "    }\n",
       "\n",
       "    .dataframe tbody tr th {\n",
       "        vertical-align: top;\n",
       "    }\n",
       "\n",
       "    .dataframe thead th {\n",
       "        text-align: right;\n",
       "    }\n",
       "</style>\n",
       "<table border=\"1\" class=\"dataframe\">\n",
       "  <thead>\n",
       "    <tr style=\"text-align: right;\">\n",
       "      <th></th>\n",
       "      <th>Weight</th>\n",
       "      <th>Length1</th>\n",
       "      <th>Length2</th>\n",
       "      <th>Length3</th>\n",
       "      <th>Height</th>\n",
       "      <th>Width</th>\n",
       "    </tr>\n",
       "  </thead>\n",
       "  <tbody>\n",
       "    <tr>\n",
       "      <th>Weight</th>\n",
       "      <td>1.000000</td>\n",
       "      <td>0.895743</td>\n",
       "      <td>0.899759</td>\n",
       "      <td>0.907292</td>\n",
       "      <td>0.801871</td>\n",
       "      <td>0.923432</td>\n",
       "    </tr>\n",
       "    <tr>\n",
       "      <th>Length1</th>\n",
       "      <td>0.895743</td>\n",
       "      <td>1.000000</td>\n",
       "      <td>0.999418</td>\n",
       "      <td>0.990612</td>\n",
       "      <td>0.676326</td>\n",
       "      <td>0.889166</td>\n",
       "    </tr>\n",
       "    <tr>\n",
       "      <th>Length2</th>\n",
       "      <td>0.899759</td>\n",
       "      <td>0.999418</td>\n",
       "      <td>1.000000</td>\n",
       "      <td>0.993049</td>\n",
       "      <td>0.691954</td>\n",
       "      <td>0.895584</td>\n",
       "    </tr>\n",
       "    <tr>\n",
       "      <th>Length3</th>\n",
       "      <td>0.907292</td>\n",
       "      <td>0.990612</td>\n",
       "      <td>0.993049</td>\n",
       "      <td>1.000000</td>\n",
       "      <td>0.756019</td>\n",
       "      <td>0.897053</td>\n",
       "    </tr>\n",
       "    <tr>\n",
       "      <th>Height</th>\n",
       "      <td>0.801871</td>\n",
       "      <td>0.676326</td>\n",
       "      <td>0.691954</td>\n",
       "      <td>0.756019</td>\n",
       "      <td>1.000000</td>\n",
       "      <td>0.800542</td>\n",
       "    </tr>\n",
       "    <tr>\n",
       "      <th>Width</th>\n",
       "      <td>0.923432</td>\n",
       "      <td>0.889166</td>\n",
       "      <td>0.895584</td>\n",
       "      <td>0.897053</td>\n",
       "      <td>0.800542</td>\n",
       "      <td>1.000000</td>\n",
       "    </tr>\n",
       "  </tbody>\n",
       "</table>\n",
       "</div>"
      ],
      "text/plain": [
       "           Weight   Length1   Length2   Length3    Height     Width\n",
       "Weight   1.000000  0.895743  0.899759  0.907292  0.801871  0.923432\n",
       "Length1  0.895743  1.000000  0.999418  0.990612  0.676326  0.889166\n",
       "Length2  0.899759  0.999418  1.000000  0.993049  0.691954  0.895584\n",
       "Length3  0.907292  0.990612  0.993049  1.000000  0.756019  0.897053\n",
       "Height   0.801871  0.676326  0.691954  0.756019  1.000000  0.800542\n",
       "Width    0.923432  0.889166  0.895584  0.897053  0.800542  1.000000"
      ]
     },
     "execution_count": 25,
     "metadata": {},
     "output_type": "execute_result"
    }
   ],
   "source": [
    "\n",
    "both.corr()"
   ]
  },
  {
   "cell_type": "code",
   "execution_count": 26,
   "id": "bf8b3ff1",
   "metadata": {
    "id": "bf8b3ff1",
    "outputId": "17460d4d-6693-460b-89ea-149af117f488"
   },
   "outputs": [
    {
     "data": {
      "text/plain": [
       "<AxesSubplot:>"
      ]
     },
     "execution_count": 26,
     "metadata": {},
     "output_type": "execute_result"
    },
    {
     "data": {
      "image/png": "[encoded data removed]",
      "text/plain": [
       "<Figure size 432x288 with 2 Axes>"
      ]
     },
     "metadata": {
      "needs_background": "light"
     },
     "output_type": "display_data"
    }
   ],
   "source": [
    "sns.heatmap(both.corr(),annot=True,cmap=\"viridis\")"
   ]
  },
  {
   "cell_type": "markdown",
   "id": "3e450519",
   "metadata": {
    "id": "3e450519"
   },
   "source": [
    "### Normality test using Shapiro\n"
   ]
  },
  {
   "cell_type": "code",
   "execution_count": 27,
   "id": "eac1be62",
   "metadata": {
    "id": "eac1be62",
    "outputId": "d6d3219d-bd19-4564-d540-26ef27ede99e"
   },
   "outputs": [
    {
     "data": {
      "text/plain": [
       "ShapiroResult(statistic=0.897249698638916, pvalue=5.5507900498241725e-09)"
      ]
     },
     "execution_count": 27,
     "metadata": {},
     "output_type": "execute_result"
    }
   ],
   "source": [
    "from scipy.stats import anderson,shapiro,kstest\n",
    "from scipy import stats\n",
    "shapiro_test = stats.shapiro(dv)\n",
    "shapiro_test\n"
   ]
  },
  {
   "cell_type": "code",
   "execution_count": 28,
   "id": "ece59602",
   "metadata": {
    "id": "ece59602",
    "outputId": "f426aec9-e419-4a1f-b0bb-548e4d58f03a"
   },
   "outputs": [
    {
     "name": "stdout",
     "output_type": "stream",
     "text": [
      "Not normally distributed\n"
     ]
    }
   ],
   "source": [
    "s,p=shapiro(dv)\n",
    "if p>0.05:\n",
    "    print(\"normally distributed\")\n",
    "else:\n",
    "    print(\"Not normally distributed\")\n"
   ]
  },
  {
   "cell_type": "code",
   "execution_count": 29,
   "id": "f76ad25a",
   "metadata": {
    "id": "f76ad25a",
    "outputId": "bd3d5de5-ab08-49f5-dc14-044c362ab068"
   },
   "outputs": [
    {
     "name": "stdout",
     "output_type": "stream",
     "text": [
      "Length1 and Length1 ------> 1.0,0.0\n",
      "Significant.\n",
      "\n",
      "Length1 and Length2 ------> 0.9994183105852784,7.219809345514062e-228\n",
      "Significant.\n",
      "\n",
      "Length1 and Length3 ------> 0.9906124044862432,5.250258433863004e-135\n",
      "Significant.\n",
      "\n",
      "Length1 and Height ------> 0.676325953414473,3.3727542296509903e-22\n",
      "Significant.\n",
      "\n",
      "Length1 and Width ------> 0.8891659137401852,3.7188015446162545e-54\n",
      "Significant.\n",
      "\n",
      "Length2 and Length1 ------> 0.9994183105852784,7.219809345514062e-228\n",
      "Significant.\n",
      "\n",
      "Length2 and Length2 ------> 1.0,0.0\n",
      "Significant.\n",
      "\n",
      "Length2 and Length3 ------> 0.9930492994505424,5.123355775306784e-145\n",
      "Significant.\n",
      "\n",
      "Length2 and Height ------> 0.6919539518671971,1.4918987250177315e-23\n",
      "Significant.\n",
      "\n",
      "Length2 and Width ------> 0.8955835283148015,4.854043147867683e-56\n",
      "Significant.\n",
      "\n",
      "Length3 and Length1 ------> 0.9906124044862432,5.250258433863004e-135\n",
      "Significant.\n",
      "\n",
      "Length3 and Length2 ------> 0.9930492994505424,5.123355775306784e-145\n",
      "Significant.\n",
      "\n",
      "Length3 and Length3 ------> 1.0,0.0\n",
      "Significant.\n",
      "\n",
      "Length3 and Height ------> 0.7560186130201627,3.820207573886061e-30\n",
      "Significant.\n",
      "\n",
      "Length3 and Width ------> 0.89705347312054,1.726677501889073e-56\n",
      "Significant.\n",
      "\n",
      "Height and Length1 ------> 0.676325953414473,3.3727542296509903e-22\n",
      "Significant.\n",
      "\n",
      "Height and Length2 ------> 0.6919539518671971,1.4918987250177315e-23\n",
      "Significant.\n",
      "\n",
      "Height and Length3 ------> 0.7560186130201627,3.820207573886061e-30\n",
      "Significant.\n",
      "\n",
      "Height and Height ------> 1.0,0.0\n",
      "Significant.\n",
      "\n",
      "Height and Width ------> 0.8005423313383794,4.540541288175474e-36\n",
      "Significant.\n",
      "\n",
      "Width and Length1 ------> 0.8891659137401852,3.7188015446162545e-54\n",
      "Significant.\n",
      "\n",
      "Width and Length2 ------> 0.8955835283148015,4.854043147867683e-56\n",
      "Significant.\n",
      "\n",
      "Width and Length3 ------> 0.89705347312054,1.726677501889073e-56\n",
      "Significant.\n",
      "\n",
      "Width and Height ------> 0.8005423313383794,4.540541288175474e-36\n",
      "Significant.\n",
      "\n",
      "Width and Width ------> 0.9999999999999998,0.0\n",
      "Significant.\n",
      "\n"
     ]
    }
   ],
   "source": [
    "for i in idv_n:\n",
    "    for j in idv_n:\n",
    "        r,p = pearsonr(idv_n[i],idv_n[j])\n",
    "        print(f'{i} and {j} ------> {r},{p}')\n",
    "        if p>0.05:\n",
    "            print(\"Not Significant.\")\n",
    "        else:\n",
    "            print(\"Significant.\")\n",
    "        print()"
   ]
  },
  {
   "cell_type": "code",
   "execution_count": 30,
   "id": "4c2ebf45",
   "metadata": {
    "id": "4c2ebf45",
    "outputId": "29401293-2837-40ad-c5ea-f2a0df9ef8c3"
   },
   "outputs": [
    {
     "data": {
      "text/html": [
       "<div>\n",
       "<style scoped>\n",
       "    .dataframe tbody tr th:only-of-type {\n",
       "        vertical-align: middle;\n",
       "    }\n",
       "\n",
       "    .dataframe tbody tr th {\n",
       "        vertical-align: top;\n",
       "    }\n",
       "\n",
       "    .dataframe thead th {\n",
       "        text-align: right;\n",
       "    }\n",
       "</style>\n",
       "<table border=\"1\" class=\"dataframe\">\n",
       "  <thead>\n",
       "    <tr style=\"text-align: right;\">\n",
       "      <th></th>\n",
       "      <th>Length1</th>\n",
       "      <th>Length2</th>\n",
       "      <th>Length3</th>\n",
       "      <th>Height</th>\n",
       "      <th>Width</th>\n",
       "    </tr>\n",
       "  </thead>\n",
       "  <tbody>\n",
       "    <tr>\n",
       "      <th>Length1</th>\n",
       "      <td>1.000000</td>\n",
       "      <td>0.999418</td>\n",
       "      <td>0.990612</td>\n",
       "      <td>0.676326</td>\n",
       "      <td>0.889166</td>\n",
       "    </tr>\n",
       "    <tr>\n",
       "      <th>Length2</th>\n",
       "      <td>0.999418</td>\n",
       "      <td>1.000000</td>\n",
       "      <td>0.993049</td>\n",
       "      <td>0.691954</td>\n",
       "      <td>0.895584</td>\n",
       "    </tr>\n",
       "    <tr>\n",
       "      <th>Length3</th>\n",
       "      <td>0.990612</td>\n",
       "      <td>0.993049</td>\n",
       "      <td>1.000000</td>\n",
       "      <td>0.756019</td>\n",
       "      <td>0.897053</td>\n",
       "    </tr>\n",
       "    <tr>\n",
       "      <th>Height</th>\n",
       "      <td>0.676326</td>\n",
       "      <td>0.691954</td>\n",
       "      <td>0.756019</td>\n",
       "      <td>1.000000</td>\n",
       "      <td>0.800542</td>\n",
       "    </tr>\n",
       "    <tr>\n",
       "      <th>Width</th>\n",
       "      <td>0.889166</td>\n",
       "      <td>0.895584</td>\n",
       "      <td>0.897053</td>\n",
       "      <td>0.800542</td>\n",
       "      <td>1.000000</td>\n",
       "    </tr>\n",
       "  </tbody>\n",
       "</table>\n",
       "</div>"
      ],
      "text/plain": [
       "          Length1   Length2   Length3    Height     Width\n",
       "Length1  1.000000  0.999418  0.990612  0.676326  0.889166\n",
       "Length2  0.999418  1.000000  0.993049  0.691954  0.895584\n",
       "Length3  0.990612  0.993049  1.000000  0.756019  0.897053\n",
       "Height   0.676326  0.691954  0.756019  1.000000  0.800542\n",
       "Width    0.889166  0.895584  0.897053  0.800542  1.000000"
      ]
     },
     "execution_count": 30,
     "metadata": {},
     "output_type": "execute_result"
    }
   ],
   "source": [
    "\n",
    "idv_n.corr()"
   ]
  },
  {
   "cell_type": "code",
   "execution_count": 31,
   "id": "38e7b037",
   "metadata": {
    "id": "38e7b037",
    "outputId": "684feb28-b785-4047-dd6a-55d090b887b3"
   },
   "outputs": [
    {
     "data": {
      "text/plain": [
       "<AxesSubplot:>"
      ]
     },
     "execution_count": 31,
     "metadata": {},
     "output_type": "execute_result"
    },
    {
     "data": {
      "image/png": "[encoded data removed]",
      "text/plain": [
       "<Figure size 432x288 with 2 Axes>"
      ]
     },
     "metadata": {
      "needs_background": "light"
     },
     "output_type": "display_data"
    }
   ],
   "source": [
    "sns.heatmap(idv_n.corr(),annot=True,cmap=\"viridis\")"
   ]
  },
  {
   "cell_type": "code",
   "execution_count": 32,
   "id": "53f53f14",
   "metadata": {
    "id": "53f53f14",
    "outputId": "6e7da770-3ebc-4f4f-8b8d-e13c59f9f8b8"
   },
   "outputs": [
    {
     "data": {
      "text/plain": [
       "ShapiroResult(statistic=0.936906635761261, pvalue=1.1799183017322817e-17)"
      ]
     },
     "execution_count": 32,
     "metadata": {},
     "output_type": "execute_result"
    }
   ],
   "source": [
    "from scipy.stats import anderson,shapiro,kstest\n",
    "from scipy import stats\n",
    "shapiro_test = stats.shapiro(idv_n)\n",
    "shapiro_test"
   ]
  },
  {
   "cell_type": "code",
   "execution_count": 33,
   "id": "a728deb7",
   "metadata": {
    "id": "a728deb7",
    "outputId": "ae028f7e-dc4b-45c3-ed97-5acb9c3d27ea"
   },
   "outputs": [
    {
     "name": "stdout",
     "output_type": "stream",
     "text": [
      "Not normally distributed\n"
     ]
    }
   ],
   "source": [
    "s,p=shapiro(idv_n)\n",
    "if p>0.05:\n",
    "    print(\"normally distributed\")\n",
    "else:\n",
    "    print(\"Not normally distributed\")"
   ]
  },
  {
   "cell_type": "markdown",
   "id": "ade9b93c",
   "metadata": {
    "id": "ade9b93c"
   },
   "source": [
    "### Barplot\n"
   ]
  },
  {
   "cell_type": "code",
   "execution_count": 34,
   "id": "2752f277",
   "metadata": {
    "id": "2752f277",
    "outputId": "cc5d9b3e-02f0-405d-b3fc-46b2adb257ec"
   },
   "outputs": [
    {
     "data": {
      "text/plain": [
       "<AxesSubplot:>"
      ]
     },
     "execution_count": 34,
     "metadata": {},
     "output_type": "execute_result"
    },
    {
     "data": {
      "image/png": "[encoded data removed]",
      "text/plain": [
       "<Figure size 432x288 with 1 Axes>"
      ]
     },
     "metadata": {
      "needs_background": "light"
     },
     "output_type": "display_data"
    }
   ],
   "source": [
    "sns.barplot(data=idv_c,y=idv_c.value_counts(),x=idv_c.Species.unique())"
   ]
  },
  {
   "cell_type": "code",
   "execution_count": 35,
   "id": "cb0db805",
   "metadata": {
    "id": "cb0db805",
    "outputId": "5a27e912-90bf-422b-b46c-038f6af48ed3"
   },
   "outputs": [
    {
     "data": {
      "text/plain": [
       "Species  \n",
       "Perch        56\n",
       "Bream        35\n",
       "Roach        20\n",
       "Pike         14\n",
       "Smelt        14\n",
       "Parkki       11\n",
       "Whitefish     6\n",
       "dtype: int64"
      ]
     },
     "execution_count": 35,
     "metadata": {},
     "output_type": "execute_result"
    }
   ],
   "source": [
    "idv_c.value_counts()"
   ]
  },
  {
   "cell_type": "code",
   "execution_count": 36,
   "id": "0c00f943",
   "metadata": {
    "id": "0c00f943",
    "outputId": "40345c0c-a37c-42c7-eaa9-223e9c99808f"
   },
   "outputs": [
    {
     "data": {
      "text/plain": [
       "<AxesSubplot:xlabel='Species', ylabel='count'>"
      ]
     },
     "execution_count": 36,
     "metadata": {},
     "output_type": "execute_result"
    },
    {
     "data": {
      "image/png": "[encoded data removed]",
      "text/plain": [
       "<Figure size 432x288 with 1 Axes>"
      ]
     },
     "metadata": {
      "needs_background": "light"
     },
     "output_type": "display_data"
    }
   ],
   "source": [
    "sns.countplot(data=idv_c,x=idv_c.Species)\n"
   ]
  },
  {
   "cell_type": "code",
   "execution_count": 37,
   "id": "32078733",
   "metadata": {
    "id": "32078733",
    "outputId": "857d13e0-03f6-4549-d342-b048a1dfd317"
   },
   "outputs": [
    {
     "data": {
      "text/html": [
       "<div>\n",
       "<style scoped>\n",
       "    .dataframe tbody tr th:only-of-type {\n",
       "        vertical-align: middle;\n",
       "    }\n",
       "\n",
       "    .dataframe tbody tr th {\n",
       "        vertical-align: top;\n",
       "    }\n",
       "\n",
       "    .dataframe thead th {\n",
       "        text-align: right;\n",
       "    }\n",
       "</style>\n",
       "<table border=\"1\" class=\"dataframe\">\n",
       "  <thead>\n",
       "    <tr style=\"text-align: right;\">\n",
       "      <th></th>\n",
       "      <th>Length1</th>\n",
       "      <th>Length2</th>\n",
       "      <th>Length3</th>\n",
       "      <th>Height</th>\n",
       "      <th>Width</th>\n",
       "    </tr>\n",
       "  </thead>\n",
       "  <tbody>\n",
       "    <tr>\n",
       "      <th>0</th>\n",
       "      <td>23.2</td>\n",
       "      <td>25.4</td>\n",
       "      <td>30.0</td>\n",
       "      <td>11.5200</td>\n",
       "      <td>4.0200</td>\n",
       "    </tr>\n",
       "    <tr>\n",
       "      <th>1</th>\n",
       "      <td>24.0</td>\n",
       "      <td>26.3</td>\n",
       "      <td>31.2</td>\n",
       "      <td>12.4800</td>\n",
       "      <td>4.3056</td>\n",
       "    </tr>\n",
       "    <tr>\n",
       "      <th>2</th>\n",
       "      <td>23.9</td>\n",
       "      <td>26.5</td>\n",
       "      <td>31.1</td>\n",
       "      <td>12.3778</td>\n",
       "      <td>4.6961</td>\n",
       "    </tr>\n",
       "    <tr>\n",
       "      <th>3</th>\n",
       "      <td>26.3</td>\n",
       "      <td>29.0</td>\n",
       "      <td>33.5</td>\n",
       "      <td>12.7300</td>\n",
       "      <td>4.4555</td>\n",
       "    </tr>\n",
       "    <tr>\n",
       "      <th>4</th>\n",
       "      <td>26.5</td>\n",
       "      <td>29.0</td>\n",
       "      <td>34.0</td>\n",
       "      <td>12.4440</td>\n",
       "      <td>5.1340</td>\n",
       "    </tr>\n",
       "  </tbody>\n",
       "</table>\n",
       "</div>"
      ],
      "text/plain": [
       "   Length1  Length2  Length3   Height   Width\n",
       "0     23.2     25.4     30.0  11.5200  4.0200\n",
       "1     24.0     26.3     31.2  12.4800  4.3056\n",
       "2     23.9     26.5     31.1  12.3778  4.6961\n",
       "3     26.3     29.0     33.5  12.7300  4.4555\n",
       "4     26.5     29.0     34.0  12.4440  5.1340"
      ]
     },
     "execution_count": 37,
     "metadata": {},
     "output_type": "execute_result"
    }
   ],
   "source": [
    "idv_n.head()"
   ]
  },
  {
   "cell_type": "code",
   "execution_count": 38,
   "id": "90bf960b",
   "metadata": {
    "id": "90bf960b",
    "outputId": "40da101c-8256-4b25-fdb7-949982dada20"
   },
   "outputs": [
    {
     "data": {
      "text/html": [
       "<div>\n",
       "<style scoped>\n",
       "    .dataframe tbody tr th:only-of-type {\n",
       "        vertical-align: middle;\n",
       "    }\n",
       "\n",
       "    .dataframe tbody tr th {\n",
       "        vertical-align: top;\n",
       "    }\n",
       "\n",
       "    .dataframe thead th {\n",
       "        text-align: right;\n",
       "    }\n",
       "</style>\n",
       "<table border=\"1\" class=\"dataframe\">\n",
       "  <thead>\n",
       "    <tr style=\"text-align: right;\">\n",
       "      <th></th>\n",
       "      <th>Length1</th>\n",
       "      <th>Length2</th>\n",
       "      <th>Length3</th>\n",
       "      <th>Height</th>\n",
       "      <th>Width</th>\n",
       "    </tr>\n",
       "  </thead>\n",
       "  <tbody>\n",
       "    <tr>\n",
       "      <th>Length1</th>\n",
       "      <td>1.000000</td>\n",
       "      <td>0.999418</td>\n",
       "      <td>0.990612</td>\n",
       "      <td>0.676326</td>\n",
       "      <td>0.889166</td>\n",
       "    </tr>\n",
       "    <tr>\n",
       "      <th>Length2</th>\n",
       "      <td>0.999418</td>\n",
       "      <td>1.000000</td>\n",
       "      <td>0.993049</td>\n",
       "      <td>0.691954</td>\n",
       "      <td>0.895584</td>\n",
       "    </tr>\n",
       "    <tr>\n",
       "      <th>Length3</th>\n",
       "      <td>0.990612</td>\n",
       "      <td>0.993049</td>\n",
       "      <td>1.000000</td>\n",
       "      <td>0.756019</td>\n",
       "      <td>0.897053</td>\n",
       "    </tr>\n",
       "    <tr>\n",
       "      <th>Height</th>\n",
       "      <td>0.676326</td>\n",
       "      <td>0.691954</td>\n",
       "      <td>0.756019</td>\n",
       "      <td>1.000000</td>\n",
       "      <td>0.800542</td>\n",
       "    </tr>\n",
       "    <tr>\n",
       "      <th>Width</th>\n",
       "      <td>0.889166</td>\n",
       "      <td>0.895584</td>\n",
       "      <td>0.897053</td>\n",
       "      <td>0.800542</td>\n",
       "      <td>1.000000</td>\n",
       "    </tr>\n",
       "  </tbody>\n",
       "</table>\n",
       "</div>"
      ],
      "text/plain": [
       "          Length1   Length2   Length3    Height     Width\n",
       "Length1  1.000000  0.999418  0.990612  0.676326  0.889166\n",
       "Length2  0.999418  1.000000  0.993049  0.691954  0.895584\n",
       "Length3  0.990612  0.993049  1.000000  0.756019  0.897053\n",
       "Height   0.676326  0.691954  0.756019  1.000000  0.800542\n",
       "Width    0.889166  0.895584  0.897053  0.800542  1.000000"
      ]
     },
     "execution_count": 38,
     "metadata": {},
     "output_type": "execute_result"
    }
   ],
   "source": [
    "idv_n.corr()"
   ]
  },
  {
   "cell_type": "code",
   "execution_count": 39,
   "id": "ff61a96d",
   "metadata": {
    "id": "ff61a96d",
    "outputId": "88567c51-097a-41a9-d9c7-9727b75d6078"
   },
   "outputs": [
    {
     "data": {
      "text/plain": [
       "<AxesSubplot:>"
      ]
     },
     "execution_count": 39,
     "metadata": {},
     "output_type": "execute_result"
    },
    {
     "data": {
      "image/png": "[encoded data removed]",
      "text/plain": [
       "<Figure size 432x288 with 2 Axes>"
      ]
     },
     "metadata": {
      "needs_background": "light"
     },
     "output_type": "display_data"
    }
   ],
   "source": [
    "sns.heatmap(idv_n.corr(),annot=True,cmap=\"viridis\")"
   ]
  },
  {
   "cell_type": "code",
   "execution_count": 40,
   "id": "468be308",
   "metadata": {
    "id": "468be308",
    "outputId": "5082ec6d-866a-44db-ea0c-5624357058d7",
    "scrolled": true
   },
   "outputs": [
    {
     "name": "stdout",
     "output_type": "stream",
     "text": [
      "Length1 and Length1 ------> 1.0,0.0\n",
      "\n",
      "Length1 and Length2 ------> 0.9994183105852784,7.219809345514062e-228\n",
      "\n",
      "Length1 and Length3 ------> 0.9906124044862432,5.250258433863004e-135\n",
      "\n",
      "Length1 and Height ------> 0.676325953414473,3.3727542296509903e-22\n",
      "\n",
      "Length1 and Width ------> 0.8891659137401852,3.7188015446162545e-54\n",
      "\n",
      "Length2 and Length1 ------> 0.9994183105852784,7.219809345514062e-228\n",
      "\n",
      "Length2 and Length2 ------> 1.0,0.0\n",
      "\n",
      "Length2 and Length3 ------> 0.9930492994505424,5.123355775306784e-145\n",
      "\n",
      "Length2 and Height ------> 0.6919539518671971,1.4918987250177315e-23\n",
      "\n",
      "Length2 and Width ------> 0.8955835283148015,4.854043147867683e-56\n",
      "\n",
      "Length3 and Length1 ------> 0.9906124044862432,5.250258433863004e-135\n",
      "\n",
      "Length3 and Length2 ------> 0.9930492994505424,5.123355775306784e-145\n",
      "\n",
      "Length3 and Length3 ------> 1.0,0.0\n",
      "\n",
      "Length3 and Height ------> 0.7560186130201627,3.820207573886061e-30\n",
      "\n",
      "Length3 and Width ------> 0.89705347312054,1.726677501889073e-56\n",
      "\n",
      "Height and Length1 ------> 0.676325953414473,3.3727542296509903e-22\n",
      "\n",
      "Height and Length2 ------> 0.6919539518671971,1.4918987250177315e-23\n",
      "\n",
      "Height and Length3 ------> 0.7560186130201627,3.820207573886061e-30\n",
      "\n",
      "Height and Height ------> 1.0,0.0\n",
      "\n",
      "Height and Width ------> 0.8005423313383794,4.540541288175474e-36\n",
      "\n",
      "Width and Length1 ------> 0.8891659137401852,3.7188015446162545e-54\n",
      "\n",
      "Width and Length2 ------> 0.8955835283148015,4.854043147867683e-56\n",
      "\n",
      "Width and Length3 ------> 0.89705347312054,1.726677501889073e-56\n",
      "\n",
      "Width and Height ------> 0.8005423313383794,4.540541288175474e-36\n",
      "\n",
      "Width and Width ------> 0.9999999999999998,0.0\n",
      "\n"
     ]
    }
   ],
   "source": [
    "for i in idv_n:\n",
    "    for j in idv_n:\n",
    "        r,p = pearsonr(idv_n[i],idv_n[j])\n",
    "        print(f'{i} and {j} ------> {r},{p}')\n",
    "        print()"
   ]
  },
  {
   "cell_type": "code",
   "execution_count": 41,
   "id": "4724f855",
   "metadata": {
    "id": "4724f855"
   },
   "outputs": [],
   "source": [
    "from statsmodels.stats.outliers_influence import variance_inflation_factor"
   ]
  },
  {
   "cell_type": "code",
   "execution_count": 42,
   "id": "0d34b853",
   "metadata": {
    "id": "0d34b853",
    "outputId": "18cb2829-d8fa-4dec-82e3-5989016ce001"
   },
   "outputs": [
    {
     "name": "stdout",
     "output_type": "stream",
     "text": [
      "Length1------>11851.606958399318\n",
      "Length2------>15437.668441672933\n",
      "Length3------>3162.4841264495817\n",
      "Height------>75.87834205065113\n",
      "Width------>96.76421237834869\n"
     ]
    }
   ],
   "source": [
    "for i in range(len(idv_n.columns)):\n",
    "    print(f'{idv_n.columns[i]}------>{variance_inflation_factor(idv_n.values,i)}')"
   ]
  },
  {
   "cell_type": "markdown",
   "id": "ccae857c",
   "metadata": {
    "id": "ccae857c"
   },
   "source": [
    "### To build Linear model"
   ]
  },
  {
   "cell_type": "code",
   "execution_count": 43,
   "id": "f3f58854",
   "metadata": {
    "id": "f3f58854"
   },
   "outputs": [],
   "source": [
    "from sklearn.model_selection import train_test_split"
   ]
  },
  {
   "cell_type": "code",
   "execution_count": 44,
   "id": "c9b7d59c",
   "metadata": {
    "id": "c9b7d59c"
   },
   "outputs": [],
   "source": [
    "x=idv_n"
   ]
  },
  {
   "cell_type": "code",
   "execution_count": 45,
   "id": "ae43ff69",
   "metadata": {
    "id": "ae43ff69",
    "outputId": "a6138232-feab-4dd6-e129-53cdf76ff879"
   },
   "outputs": [
    {
     "data": {
      "text/html": [
       "<div>\n",
       "<style scoped>\n",
       "    .dataframe tbody tr th:only-of-type {\n",
       "        vertical-align: middle;\n",
       "    }\n",
       "\n",
       "    .dataframe tbody tr th {\n",
       "        vertical-align: top;\n",
       "    }\n",
       "\n",
       "    .dataframe thead th {\n",
       "        text-align: right;\n",
       "    }\n",
       "</style>\n",
       "<table border=\"1\" class=\"dataframe\">\n",
       "  <thead>\n",
       "    <tr style=\"text-align: right;\">\n",
       "      <th></th>\n",
       "      <th>Length1</th>\n",
       "      <th>Length2</th>\n",
       "      <th>Length3</th>\n",
       "      <th>Height</th>\n",
       "      <th>Width</th>\n",
       "    </tr>\n",
       "  </thead>\n",
       "  <tbody>\n",
       "    <tr>\n",
       "      <th>0</th>\n",
       "      <td>23.2</td>\n",
       "      <td>25.4</td>\n",
       "      <td>30.0</td>\n",
       "      <td>11.5200</td>\n",
       "      <td>4.0200</td>\n",
       "    </tr>\n",
       "    <tr>\n",
       "      <th>1</th>\n",
       "      <td>24.0</td>\n",
       "      <td>26.3</td>\n",
       "      <td>31.2</td>\n",
       "      <td>12.4800</td>\n",
       "      <td>4.3056</td>\n",
       "    </tr>\n",
       "    <tr>\n",
       "      <th>2</th>\n",
       "      <td>23.9</td>\n",
       "      <td>26.5</td>\n",
       "      <td>31.1</td>\n",
       "      <td>12.3778</td>\n",
       "      <td>4.6961</td>\n",
       "    </tr>\n",
       "    <tr>\n",
       "      <th>3</th>\n",
       "      <td>26.3</td>\n",
       "      <td>29.0</td>\n",
       "      <td>33.5</td>\n",
       "      <td>12.7300</td>\n",
       "      <td>4.4555</td>\n",
       "    </tr>\n",
       "    <tr>\n",
       "      <th>4</th>\n",
       "      <td>26.5</td>\n",
       "      <td>29.0</td>\n",
       "      <td>34.0</td>\n",
       "      <td>12.4440</td>\n",
       "      <td>5.1340</td>\n",
       "    </tr>\n",
       "    <tr>\n",
       "      <th>...</th>\n",
       "      <td>...</td>\n",
       "      <td>...</td>\n",
       "      <td>...</td>\n",
       "      <td>...</td>\n",
       "      <td>...</td>\n",
       "    </tr>\n",
       "    <tr>\n",
       "      <th>154</th>\n",
       "      <td>11.5</td>\n",
       "      <td>12.2</td>\n",
       "      <td>13.4</td>\n",
       "      <td>2.0904</td>\n",
       "      <td>1.3936</td>\n",
       "    </tr>\n",
       "    <tr>\n",
       "      <th>155</th>\n",
       "      <td>11.7</td>\n",
       "      <td>12.4</td>\n",
       "      <td>13.5</td>\n",
       "      <td>2.4300</td>\n",
       "      <td>1.2690</td>\n",
       "    </tr>\n",
       "    <tr>\n",
       "      <th>156</th>\n",
       "      <td>12.1</td>\n",
       "      <td>13.0</td>\n",
       "      <td>13.8</td>\n",
       "      <td>2.2770</td>\n",
       "      <td>1.2558</td>\n",
       "    </tr>\n",
       "    <tr>\n",
       "      <th>157</th>\n",
       "      <td>13.2</td>\n",
       "      <td>14.3</td>\n",
       "      <td>15.2</td>\n",
       "      <td>2.8728</td>\n",
       "      <td>2.0672</td>\n",
       "    </tr>\n",
       "    <tr>\n",
       "      <th>158</th>\n",
       "      <td>13.8</td>\n",
       "      <td>15.0</td>\n",
       "      <td>16.2</td>\n",
       "      <td>2.9322</td>\n",
       "      <td>1.8792</td>\n",
       "    </tr>\n",
       "  </tbody>\n",
       "</table>\n",
       "<p>156 rows × 5 columns</p>\n",
       "</div>"
      ],
      "text/plain": [
       "     Length1  Length2  Length3   Height   Width\n",
       "0       23.2     25.4     30.0  11.5200  4.0200\n",
       "1       24.0     26.3     31.2  12.4800  4.3056\n",
       "2       23.9     26.5     31.1  12.3778  4.6961\n",
       "3       26.3     29.0     33.5  12.7300  4.4555\n",
       "4       26.5     29.0     34.0  12.4440  5.1340\n",
       "..       ...      ...      ...      ...     ...\n",
       "154     11.5     12.2     13.4   2.0904  1.3936\n",
       "155     11.7     12.4     13.5   2.4300  1.2690\n",
       "156     12.1     13.0     13.8   2.2770  1.2558\n",
       "157     13.2     14.3     15.2   2.8728  2.0672\n",
       "158     13.8     15.0     16.2   2.9322  1.8792\n",
       "\n",
       "[156 rows x 5 columns]"
      ]
     },
     "execution_count": 45,
     "metadata": {},
     "output_type": "execute_result"
    }
   ],
   "source": [
    "x"
   ]
  },
  {
   "cell_type": "code",
   "execution_count": 46,
   "id": "d33b4140",
   "metadata": {
    "id": "d33b4140"
   },
   "outputs": [],
   "source": [
    "y=dv"
   ]
  },
  {
   "cell_type": "code",
   "execution_count": 47,
   "id": "7b76725a",
   "metadata": {
    "id": "7b76725a",
    "outputId": "90ef5675-c743-44ec-83d8-ab5828ca82b7"
   },
   "outputs": [
    {
     "data": {
      "text/plain": [
       "0      242.0\n",
       "1      290.0\n",
       "2      340.0\n",
       "3      363.0\n",
       "4      430.0\n",
       "       ...  \n",
       "154     12.2\n",
       "155     13.4\n",
       "156     12.2\n",
       "157     19.7\n",
       "158     19.9\n",
       "Name: Weight, Length: 156, dtype: float64"
      ]
     },
     "execution_count": 47,
     "metadata": {},
     "output_type": "execute_result"
    }
   ],
   "source": [
    "y"
   ]
  },
  {
   "cell_type": "code",
   "execution_count": 48,
   "id": "7d1e8a4c",
   "metadata": {
    "id": "7d1e8a4c"
   },
   "outputs": [],
   "source": [
    "x_train, x_test, y_train, y_test = train_test_split(x,y, test_size=0.33)  # test size=33% and train size =70%"
   ]
  },
  {
   "cell_type": "code",
   "execution_count": 49,
   "id": "da056b01",
   "metadata": {
    "id": "da056b01",
    "outputId": "93458d5e-e7fb-47fa-cd52-0a0d89d7cb45"
   },
   "outputs": [
    {
     "name": "stdout",
     "output_type": "stream",
     "text": [
      "(104, 5)\n",
      "(52, 5)\n",
      "(104,)\n",
      "(52,)\n"
     ]
    }
   ],
   "source": [
    "print(x_train.shape)\n",
    "print(x_test.shape)\n",
    "print(y_train.shape)\n",
    "print(y_test.shape)"
   ]
  },
  {
   "cell_type": "code",
   "execution_count": 50,
   "id": "23e21620",
   "metadata": {
    "id": "23e21620"
   },
   "outputs": [],
   "source": [
    "from sklearn.linear_model import LinearRegression"
   ]
  },
  {
   "cell_type": "code",
   "execution_count": 51,
   "id": "fc3d6c00",
   "metadata": {
    "id": "fc3d6c00"
   },
   "outputs": [],
   "source": [
    "l=LinearRegression()  #storing LR in variable "
   ]
  },
  {
   "cell_type": "code",
   "execution_count": 52,
   "id": "90b2ec55",
   "metadata": {
    "id": "90b2ec55",
    "outputId": "97d60b05-06e3-433a-845b-576d31fa7402"
   },
   "outputs": [
    {
     "data": {
      "text/plain": [
       "LinearRegression()"
      ]
     },
     "execution_count": 52,
     "metadata": {},
     "output_type": "execute_result"
    }
   ],
   "source": [
    "l.fit(x_train,y_train) #fit x and y train and assign in l"
   ]
  },
  {
   "cell_type": "code",
   "execution_count": 53,
   "id": "e6986605",
   "metadata": {
    "id": "e6986605",
    "outputId": "cd90dc2a-9701-4078-d501-28a516354170"
   },
   "outputs": [
    {
     "data": {
      "text/plain": [
       "array([115.25343786, -57.04684832, -37.11150824,  41.9715575 ,\n",
       "        46.61462418])"
      ]
     },
     "execution_count": 53,
     "metadata": {},
     "output_type": "execute_result"
    }
   ],
   "source": [
    "l.coef_  #y=mx+c ; coeff is m value (wherein m is slope)"
   ]
  },
  {
   "cell_type": "code",
   "execution_count": 54,
   "id": "9ae0d204",
   "metadata": {
    "id": "9ae0d204",
    "outputId": "3e8ca249-5d44-4303-db40-ae987d4f667d"
   },
   "outputs": [
    {
     "data": {
      "text/plain": [
       "-444.6964026172802"
      ]
     },
     "execution_count": 54,
     "metadata": {},
     "output_type": "execute_result"
    }
   ],
   "source": [
    "l.intercept_   #intercept is c value"
   ]
  },
  {
   "cell_type": "markdown",
   "id": "a887af67",
   "metadata": {
    "id": "a887af67"
   },
   "source": [
    "### RMSE for Train"
   ]
  },
  {
   "cell_type": "code",
   "execution_count": 55,
   "id": "879720cf",
   "metadata": {
    "id": "879720cf",
    "outputId": "22a88c0c-f213-4760-c9ad-5d060c65940b"
   },
   "outputs": [
    {
     "data": {
      "text/plain": [
       "array([ 215.16575256,  341.06191671,   56.14561538,  639.10707713,\n",
       "        559.4210849 ,  906.97252877,  261.15579516,  417.28499397,\n",
       "        908.37029924,  462.63781395,  230.46940409,  114.6707276 ,\n",
       "        856.45899205,  274.3241283 ,  238.48730451,  553.17463148,\n",
       "        161.71028343,  197.77100514,   57.39225773,  812.27676081,\n",
       "        151.13719594, -189.75089361,   57.05246033,  748.0585899 ,\n",
       "        668.51270652,  379.79895947,  546.68692244,  651.82564108,\n",
       "        344.32294485,  616.91968167,  807.25533876,  207.328756  ,\n",
       "        116.76424665,  710.65997395,  144.12069847,  789.68479442,\n",
       "        255.05622519, -159.18696385,   68.63666892,  748.5013601 ,\n",
       "        894.75392854,  436.43329521,   82.8473745 ,  765.72104623,\n",
       "        339.4710328 ,   15.28693143,  828.06130586,  440.38830434,\n",
       "        167.06396671,  224.61864453,  276.70510623,  851.99791846,\n",
       "        352.10275617,  272.24598201,  148.50679614,  790.19316918,\n",
       "         75.15272045,  376.18911402,  920.12278042,  359.95215801,\n",
       "        652.01284496, -143.47261725,  157.52394183,   82.39816731,\n",
       "        221.28102707,  153.98401448,  758.3634889 ,  780.70933249,\n",
       "        906.26482638,   37.04950644,  186.13335603, -162.41635763,\n",
       "        153.4226637 ,  880.49081926,  382.37385655,  -89.84181095,\n",
       "        542.45174949,  336.70177275,  645.77392534,  -29.81981489,\n",
       "        714.34426643,  510.64829598,  256.60143393, -154.37730143,\n",
       "        281.80543477,  696.28657258,  204.97323922,  573.5448618 ,\n",
       "        342.89436177,  648.95948259,  270.05831119,  337.75129283,\n",
       "        194.19132628,  495.30880329,  122.00839187,   73.96955736,\n",
       "        674.40070435, -148.88143724, -159.84814309, -163.62067428,\n",
       "        299.81858645,   83.23332256,  625.18241592,  705.40419124])"
      ]
     },
     "execution_count": 55,
     "metadata": {},
     "output_type": "execute_result"
    }
   ],
   "source": [
    "train_pred=l.predict(x_train)\n",
    "train_pred"
   ]
  },
  {
   "cell_type": "code",
   "execution_count": 56,
   "id": "6518240f",
   "metadata": {
    "id": "6518240f"
   },
   "outputs": [],
   "source": [
    "error=y_train-train_pred"
   ]
  },
  {
   "cell_type": "code",
   "execution_count": 57,
   "id": "3ecca3f0",
   "metadata": {
    "id": "3ecca3f0",
    "outputId": "2b653c50-55ff-4e36-bb05-9a19448ae203"
   },
   "outputs": [
    {
     "data": {
      "text/plain": [
       "66     -75.165753\n",
       "130    -41.061917\n",
       "61      -1.145615\n",
       "109   -125.107077\n",
       "134   -103.421085\n",
       "          ...    \n",
       "149    173.420674\n",
       "129      0.181414\n",
       "38       3.766677\n",
       "16      74.817584\n",
       "114     -5.404191\n",
       "Name: Weight, Length: 104, dtype: float64"
      ]
     },
     "execution_count": 57,
     "metadata": {},
     "output_type": "execute_result"
    }
   ],
   "source": [
    "error   #error for train data"
   ]
  },
  {
   "cell_type": "code",
   "execution_count": 58,
   "id": "c81617c7",
   "metadata": {
    "id": "c81617c7",
    "outputId": "8da91512-a5d4-4eca-c45c-181d0862a0c1"
   },
   "outputs": [
    {
     "data": {
      "text/plain": [
       "<AxesSubplot:xlabel='Weight', ylabel='Density'>"
      ]
     },
     "execution_count": 58,
     "metadata": {},
     "output_type": "execute_result"
    },
    {
     "data": {
      "image/png": "[encoded data removed]",
      "text/plain": [
       "<Figure size 432x288 with 1 Axes>"
      ]
     },
     "metadata": {
      "needs_background": "light"
     },
     "output_type": "display_data"
    }
   ],
   "source": [
    "sns.kdeplot(error)"
   ]
  },
  {
   "cell_type": "code",
   "execution_count": 59,
   "id": "a8f24a7a",
   "metadata": {
    "id": "a8f24a7a",
    "outputId": "e83316e6-9412-46c9-9580-5482fb0cd83c"
   },
   "outputs": [
    {
     "data": {
      "text/plain": [
       "array([ 426.01356773, -184.80655152,  931.01203306,  435.76021791,\n",
       "        334.12873282, -169.25641352,  -86.27823759,  565.93435857,\n",
       "       -149.7697649 ,  387.68390161, -100.44091577,  674.68486694,\n",
       "        912.42096164,  590.14982333,  641.98551858,  817.53302578,\n",
       "        129.95122965,  273.72013321,  495.71366951,  653.24145348,\n",
       "       -231.79309678,  606.40177592,  656.82223475,  566.61057599,\n",
       "        578.80917882,  221.56288293,  693.28522373,  454.98336133,\n",
       "        158.48562732, -210.88920857,  399.39086163,  201.87486826,\n",
       "        476.39246527,  655.35323387,  701.51306006,  151.23459781,\n",
       "        142.36952931,  134.25738245,  412.5531731 ,  721.01699715,\n",
       "        535.87847576,  168.80842913,  831.77734665,   19.27945354,\n",
       "        -83.70763811,  123.8955738 ,  430.86427082,  269.86300325,\n",
       "        788.38880917,  735.90998099,  567.83465779,  124.80622414])"
      ]
     },
     "execution_count": 59,
     "metadata": {},
     "output_type": "execute_result"
    }
   ],
   "source": [
    "test_pred=l.predict(x_test)\n",
    "test_pred"
   ]
  },
  {
   "cell_type": "code",
   "execution_count": 60,
   "id": "64ddd52e",
   "metadata": {
    "id": "64ddd52e"
   },
   "outputs": [],
   "source": [
    "error2=y_test-test_pred"
   ]
  },
  {
   "cell_type": "code",
   "execution_count": 61,
   "id": "13fdc5b6",
   "metadata": {
    "id": "13fdc5b6",
    "outputId": "51369bf4-3496-4c68-8bfc-d824499054ef"
   },
   "outputs": [
    {
     "data": {
      "text/plain": [
       "102   -126.013568\n",
       "146    192.306552\n",
       "127     68.987967\n",
       "107   -135.760218\n",
       "69    -134.128733\n",
       "150    177.956414\n",
       "157    105.978238\n",
       "13    -225.934359\n",
       "156    161.969765\n",
       "1      -97.683902\n",
       "158    120.340916\n",
       "25      50.315133\n",
       "141    337.579038\n",
       "136    -50.149823\n",
       "22     -21.985519\n",
       "116     82.466974\n",
       "41     -19.951230\n",
       "56      -3.720133\n",
       "54    -105.713670\n",
       "139    116.758547\n",
       "72     237.693097\n",
       "14      -6.401776\n",
       "138    -89.822235\n",
       "58     -26.610576\n",
       "11     -78.809179\n",
       "47     -61.562883\n",
       "59     106.714776\n",
       "4      -24.983361\n",
       "91     -28.485627\n",
       "145    217.589209\n",
       "70    -126.390862\n",
       "95     -31.874868\n",
       "7      -86.392465\n",
       "19      -5.353234\n",
       "21     -16.513060\n",
       "90     -41.234598\n",
       "94       7.630471\n",
       "87     -14.257382\n",
       "131   -112.553173\n",
       "112    -36.016997\n",
       "8      -85.878476\n",
       "45      -8.808429\n",
       "121    183.222653\n",
       "36      49.720546\n",
       "35     123.707638\n",
       "42      -3.895574\n",
       "3      -67.864271\n",
       "128    -69.863003\n",
       "119     61.611191\n",
       "28     114.090019\n",
       "137    -67.834658\n",
       "63     -34.806224\n",
       "Name: Weight, dtype: float64"
      ]
     },
     "execution_count": 61,
     "metadata": {},
     "output_type": "execute_result"
    }
   ],
   "source": [
    "error2"
   ]
  },
  {
   "cell_type": "code",
   "execution_count": 62,
   "id": "64b94f96",
   "metadata": {
    "id": "64b94f96"
   },
   "outputs": [],
   "source": [
    "from sklearn.metrics import mean_squared_error,r2_score"
   ]
  },
  {
   "cell_type": "code",
   "execution_count": 63,
   "id": "77866b04",
   "metadata": {
    "id": "77866b04",
    "outputId": "591c287a-bfe4-492b-8848-71f6dbb3c086"
   },
   "outputs": [
    {
     "data": {
      "text/plain": [
       "8597.388729384915"
      ]
     },
     "execution_count": 63,
     "metadata": {},
     "output_type": "execute_result"
    }
   ],
   "source": [
    "mean_squared_error(train_pred,y_train)"
   ]
  },
  {
   "cell_type": "code",
   "execution_count": 64,
   "id": "4c276f6e",
   "metadata": {
    "id": "4c276f6e",
    "outputId": "e661cf0c-d92b-4617-ffad-47ab1851cfbf"
   },
   "outputs": [
    {
     "data": {
      "text/plain": [
       "92.72210485846897"
      ]
     },
     "execution_count": 64,
     "metadata": {},
     "output_type": "execute_result"
    }
   ],
   "source": [
    "np.sqrt(mean_squared_error(train_pred,y_train))     "
   ]
  },
  {
   "cell_type": "code",
   "execution_count": 65,
   "id": "93068da4",
   "metadata": {
    "id": "93068da4",
    "outputId": "90c4e363-8b52-4dd4-a8e8-0377fa1e1122"
   },
   "outputs": [
    {
     "data": {
      "text/plain": [
       "0.9166435828618875"
      ]
     },
     "execution_count": 65,
     "metadata": {},
     "output_type": "execute_result"
    }
   ],
   "source": [
    "r2_score(y_train,train_pred)   "
   ]
  },
  {
   "cell_type": "code",
   "execution_count": 66,
   "id": "0a9bc7de",
   "metadata": {
    "id": "0a9bc7de"
   },
   "outputs": [],
   "source": [
    "import statsmodels.api as sm"
   ]
  },
  {
   "cell_type": "code",
   "execution_count": 67,
   "id": "f16e8aa7",
   "metadata": {
    "id": "f16e8aa7",
    "outputId": "7fdc7f66-8105-4649-e7b5-ec369bdf3867"
   },
   "outputs": [
    {
     "data": {
      "text/html": [
       "<div>\n",
       "<style scoped>\n",
       "    .dataframe tbody tr th:only-of-type {\n",
       "        vertical-align: middle;\n",
       "    }\n",
       "\n",
       "    .dataframe tbody tr th {\n",
       "        vertical-align: top;\n",
       "    }\n",
       "\n",
       "    .dataframe thead th {\n",
       "        text-align: right;\n",
       "    }\n",
       "</style>\n",
       "<table border=\"1\" class=\"dataframe\">\n",
       "  <thead>\n",
       "    <tr style=\"text-align: right;\">\n",
       "      <th></th>\n",
       "      <th>const</th>\n",
       "      <th>Length1</th>\n",
       "      <th>Length2</th>\n",
       "      <th>Length3</th>\n",
       "      <th>Height</th>\n",
       "      <th>Width</th>\n",
       "    </tr>\n",
       "  </thead>\n",
       "  <tbody>\n",
       "    <tr>\n",
       "      <th>66</th>\n",
       "      <td>1.0</td>\n",
       "      <td>19.0</td>\n",
       "      <td>20.7</td>\n",
       "      <td>23.2</td>\n",
       "      <td>8.5376</td>\n",
       "      <td>3.2944</td>\n",
       "    </tr>\n",
       "    <tr>\n",
       "      <th>130</th>\n",
       "      <td>1.0</td>\n",
       "      <td>32.7</td>\n",
       "      <td>35.0</td>\n",
       "      <td>38.8</td>\n",
       "      <td>5.9364</td>\n",
       "      <td>4.3844</td>\n",
       "    </tr>\n",
       "    <tr>\n",
       "      <th>61</th>\n",
       "      <td>1.0</td>\n",
       "      <td>13.5</td>\n",
       "      <td>14.7</td>\n",
       "      <td>16.5</td>\n",
       "      <td>6.8475</td>\n",
       "      <td>2.3265</td>\n",
       "    </tr>\n",
       "    <tr>\n",
       "      <th>109</th>\n",
       "      <td>1.0</td>\n",
       "      <td>30.5</td>\n",
       "      <td>32.8</td>\n",
       "      <td>34.0</td>\n",
       "      <td>10.0300</td>\n",
       "      <td>6.0180</td>\n",
       "    </tr>\n",
       "    <tr>\n",
       "      <th>134</th>\n",
       "      <td>1.0</td>\n",
       "      <td>40.0</td>\n",
       "      <td>42.5</td>\n",
       "      <td>45.5</td>\n",
       "      <td>7.2800</td>\n",
       "      <td>4.3225</td>\n",
       "    </tr>\n",
       "    <tr>\n",
       "      <th>...</th>\n",
       "      <td>...</td>\n",
       "      <td>...</td>\n",
       "      <td>...</td>\n",
       "      <td>...</td>\n",
       "      <td>...</td>\n",
       "      <td>...</td>\n",
       "    </tr>\n",
       "    <tr>\n",
       "      <th>149</th>\n",
       "      <td>1.0</td>\n",
       "      <td>10.7</td>\n",
       "      <td>11.2</td>\n",
       "      <td>12.4</td>\n",
       "      <td>2.0832</td>\n",
       "      <td>1.2772</td>\n",
       "    </tr>\n",
       "    <tr>\n",
       "      <th>129</th>\n",
       "      <td>1.0</td>\n",
       "      <td>31.7</td>\n",
       "      <td>34.0</td>\n",
       "      <td>37.8</td>\n",
       "      <td>5.7078</td>\n",
       "      <td>4.1580</td>\n",
       "    </tr>\n",
       "    <tr>\n",
       "      <th>38</th>\n",
       "      <td>1.0</td>\n",
       "      <td>18.2</td>\n",
       "      <td>19.8</td>\n",
       "      <td>22.2</td>\n",
       "      <td>5.6166</td>\n",
       "      <td>3.1746</td>\n",
       "    </tr>\n",
       "    <tr>\n",
       "      <th>16</th>\n",
       "      <td>1.0</td>\n",
       "      <td>30.4</td>\n",
       "      <td>33.0</td>\n",
       "      <td>38.3</td>\n",
       "      <td>14.8604</td>\n",
       "      <td>5.2854</td>\n",
       "    </tr>\n",
       "    <tr>\n",
       "      <th>114</th>\n",
       "      <td>1.0</td>\n",
       "      <td>34.5</td>\n",
       "      <td>37.0</td>\n",
       "      <td>39.4</td>\n",
       "      <td>10.8350</td>\n",
       "      <td>6.2646</td>\n",
       "    </tr>\n",
       "  </tbody>\n",
       "</table>\n",
       "<p>104 rows × 6 columns</p>\n",
       "</div>"
      ],
      "text/plain": [
       "     const  Length1  Length2  Length3   Height   Width\n",
       "66     1.0     19.0     20.7     23.2   8.5376  3.2944\n",
       "130    1.0     32.7     35.0     38.8   5.9364  4.3844\n",
       "61     1.0     13.5     14.7     16.5   6.8475  2.3265\n",
       "109    1.0     30.5     32.8     34.0  10.0300  6.0180\n",
       "134    1.0     40.0     42.5     45.5   7.2800  4.3225\n",
       "..     ...      ...      ...      ...      ...     ...\n",
       "149    1.0     10.7     11.2     12.4   2.0832  1.2772\n",
       "129    1.0     31.7     34.0     37.8   5.7078  4.1580\n",
       "38     1.0     18.2     19.8     22.2   5.6166  3.1746\n",
       "16     1.0     30.4     33.0     38.3  14.8604  5.2854\n",
       "114    1.0     34.5     37.0     39.4  10.8350  6.2646\n",
       "\n",
       "[104 rows x 6 columns]"
      ]
     },
     "execution_count": 67,
     "metadata": {},
     "output_type": "execute_result"
    }
   ],
   "source": [
    "x_train1=sm.add_constant(x_train)\n",
    "x_train1"
   ]
  },
  {
   "cell_type": "code",
   "execution_count": 68,
   "id": "a1c5c1fe",
   "metadata": {
    "id": "a1c5c1fe"
   },
   "outputs": [],
   "source": [
    "model=sm.OLS(y_train,x_train1).fit()\n"
   ]
  },
  {
   "cell_type": "code",
   "execution_count": 69,
   "id": "79dbaefa",
   "metadata": {
    "id": "79dbaefa",
    "outputId": "d6acd9b8-6eee-4b6a-dba8-b2bd80072a83"
   },
   "outputs": [
    {
     "data": {
      "text/plain": [
       "66     -75.165753\n",
       "130    -41.061917\n",
       "61      -1.145615\n",
       "109   -125.107077\n",
       "134   -103.421085\n",
       "          ...    \n",
       "149    173.420674\n",
       "129      0.181414\n",
       "38       3.766677\n",
       "16      74.817584\n",
       "114     -5.404191\n",
       "Length: 104, dtype: float64"
      ]
     },
     "execution_count": 69,
     "metadata": {},
     "output_type": "execute_result"
    }
   ],
   "source": [
    "\n",
    "residuals=model.resid\n",
    "residuals"
   ]
  },
  {
   "cell_type": "code",
   "execution_count": 70,
   "id": "e37365dd",
   "metadata": {
    "id": "e37365dd",
    "outputId": "b7c22e82-6bf7-4d26-9914-b5af02733ee0"
   },
   "outputs": [
    {
     "data": {
      "text/plain": [
       "<AxesSubplot:>"
      ]
     },
     "execution_count": 70,
     "metadata": {},
     "output_type": "execute_result"
    },
    {
     "data": {
      "image/png": "[encoded data removed]",
      "text/plain": [
       "<Figure size 432x288 with 1 Axes>"
      ]
     },
     "metadata": {
      "needs_background": "light"
     },
     "output_type": "display_data"
    }
   ],
   "source": [
    "sns.scatterplot(data=model.resid)"
   ]
  },
  {
   "cell_type": "code",
   "execution_count": 71,
   "id": "0fde5879",
   "metadata": {
    "id": "0fde5879",
    "outputId": "3b5a2664-37ca-49fc-c7c3-a6f4fae2dcc9"
   },
   "outputs": [
    {
     "data": {
      "text/plain": [
       "<AxesSubplot:>"
      ]
     },
     "execution_count": 71,
     "metadata": {},
     "output_type": "execute_result"
    },
    {
     "data": {
      "image/png": "[encoded data removed]",
      "text/plain": [
       "<Figure size 432x288 with 1 Axes>"
      ]
     },
     "metadata": {
      "needs_background": "light"
     },
     "output_type": "display_data"
    }
   ],
   "source": [
    "sns.scatterplot(x=train_pred,y=residuals)"
   ]
  },
  {
   "cell_type": "code",
   "execution_count": 72,
   "id": "e1a12948",
   "metadata": {
    "id": "e1a12948",
    "outputId": "a910c483-4636-4e90-c72d-328ea4ddc9e1"
   },
   "outputs": [
    {
     "data": {
      "text/html": [
       "<table class=\"simpletable\">\n",
       "<caption>OLS Regression Results</caption>\n",
       "<tr>\n",
       "  <th>Dep. Variable:</th>         <td>Weight</td>      <th>  R-squared:         </th> <td>   0.917</td>\n",
       "</tr>\n",
       "<tr>\n",
       "  <th>Model:</th>                   <td>OLS</td>       <th>  Adj. R-squared:    </th> <td>   0.912</td>\n",
       "</tr>\n",
       "<tr>\n",
       "  <th>Method:</th>             <td>Least Squares</td>  <th>  F-statistic:       </th> <td>   215.5</td>\n",
       "</tr>\n",
       "<tr>\n",
       "  <th>Date:</th>             <td>Sun, 09 Oct 2022</td> <th>  Prob (F-statistic):</th> <td>3.15e-51</td>\n",
       "</tr>\n",
       "<tr>\n",
       "  <th>Time:</th>                 <td>16:40:45</td>     <th>  Log-Likelihood:    </th> <td> -618.65</td>\n",
       "</tr>\n",
       "<tr>\n",
       "  <th>No. Observations:</th>      <td>   104</td>      <th>  AIC:               </th> <td>   1249.</td>\n",
       "</tr>\n",
       "<tr>\n",
       "  <th>Df Residuals:</th>          <td>    98</td>      <th>  BIC:               </th> <td>   1265.</td>\n",
       "</tr>\n",
       "<tr>\n",
       "  <th>Df Model:</th>              <td>     5</td>      <th>                     </th>     <td> </td>   \n",
       "</tr>\n",
       "<tr>\n",
       "  <th>Covariance Type:</th>      <td>nonrobust</td>    <th>                     </th>     <td> </td>   \n",
       "</tr>\n",
       "</table>\n",
       "<table class=\"simpletable\">\n",
       "<tr>\n",
       "     <td></td>        <th>coef</th>     <th>std err</th>      <th>t</th>      <th>P>|t|</th>  <th>[0.025</th>    <th>0.975]</th>  \n",
       "</tr>\n",
       "<tr>\n",
       "  <th>const</th>   <td> -444.6964</td> <td>   30.627</td> <td>  -14.520</td> <td> 0.000</td> <td> -505.475</td> <td> -383.917</td>\n",
       "</tr>\n",
       "<tr>\n",
       "  <th>Length1</th> <td>  115.2534</td> <td>   37.255</td> <td>    3.094</td> <td> 0.003</td> <td>   41.322</td> <td>  189.185</td>\n",
       "</tr>\n",
       "<tr>\n",
       "  <th>Length2</th> <td>  -57.0468</td> <td>   38.019</td> <td>   -1.500</td> <td> 0.137</td> <td> -132.494</td> <td>   18.400</td>\n",
       "</tr>\n",
       "<tr>\n",
       "  <th>Length3</th> <td>  -37.1115</td> <td>   15.813</td> <td>   -2.347</td> <td> 0.021</td> <td>  -68.492</td> <td>   -5.731</td>\n",
       "</tr>\n",
       "<tr>\n",
       "  <th>Height</th>  <td>   41.9716</td> <td>    8.208</td> <td>    5.114</td> <td> 0.000</td> <td>   25.684</td> <td>   58.259</td>\n",
       "</tr>\n",
       "<tr>\n",
       "  <th>Width</th>   <td>   46.6146</td> <td>   20.839</td> <td>    2.237</td> <td> 0.028</td> <td>    5.260</td> <td>   87.969</td>\n",
       "</tr>\n",
       "</table>\n",
       "<table class=\"simpletable\">\n",
       "<tr>\n",
       "  <th>Omnibus:</th>       <td> 9.230</td> <th>  Durbin-Watson:     </th> <td>   1.882</td>\n",
       "</tr>\n",
       "<tr>\n",
       "  <th>Prob(Omnibus):</th> <td> 0.010</td> <th>  Jarque-Bera (JB):  </th> <td>  10.032</td>\n",
       "</tr>\n",
       "<tr>\n",
       "  <th>Skew:</th>          <td> 0.751</td> <th>  Prob(JB):          </th> <td> 0.00663</td>\n",
       "</tr>\n",
       "<tr>\n",
       "  <th>Kurtosis:</th>      <td> 2.759</td> <th>  Cond. No.          </th> <td>    291.</td>\n",
       "</tr>\n",
       "</table><br/><br/>Notes:<br/>[1] Standard Errors assume that the covariance matrix of the errors is correctly specified."
      ],
      "text/plain": [
       "<class 'statsmodels.iolib.summary.Summary'>\n",
       "\"\"\"\n",
       "                            OLS Regression Results                            \n",
       "==============================================================================\n",
       "Dep. Variable:                 Weight   R-squared:                       0.917\n",
       "Model:                            OLS   Adj. R-squared:                  0.912\n",
       "Method:                 Least Squares   F-statistic:                     215.5\n",
       "Date:                Sun, 09 Oct 2022   Prob (F-statistic):           3.15e-51\n",
       "Time:                        16:40:45   Log-Likelihood:                -618.65\n",
       "No. Observations:                 104   AIC:                             1249.\n",
       "Df Residuals:                      98   BIC:                             1265.\n",
       "Df Model:                           5                                         \n",
       "Covariance Type:            nonrobust                                         \n",
       "==============================================================================\n",
       "                 coef    std err          t      P>|t|      [0.025      0.975]\n",
       "------------------------------------------------------------------------------\n",
       "const       -444.6964     30.627    -14.520      0.000    -505.475    -383.917\n",
       "Length1      115.2534     37.255      3.094      0.003      41.322     189.185\n",
       "Length2      -57.0468     38.019     -1.500      0.137    -132.494      18.400\n",
       "Length3      -37.1115     15.813     -2.347      0.021     -68.492      -5.731\n",
       "Height        41.9716      8.208      5.114      0.000      25.684      58.259\n",
       "Width         46.6146     20.839      2.237      0.028       5.260      87.969\n",
       "==============================================================================\n",
       "Omnibus:                        9.230   Durbin-Watson:                   1.882\n",
       "Prob(Omnibus):                  0.010   Jarque-Bera (JB):               10.032\n",
       "Skew:                           0.751   Prob(JB):                      0.00663\n",
       "Kurtosis:                       2.759   Cond. No.                         291.\n",
       "==============================================================================\n",
       "\n",
       "Notes:\n",
       "[1] Standard Errors assume that the covariance matrix of the errors is correctly specified.\n",
       "\"\"\""
      ]
     },
     "execution_count": 72,
     "metadata": {},
     "output_type": "execute_result"
    }
   ],
   "source": [
    "model.summary()"
   ]
  },
  {
   "cell_type": "code",
   "execution_count": 73,
   "id": "0dc737ee",
   "metadata": {
    "id": "0dc737ee",
    "outputId": "3ee4ebc4-7de5-4b27-9bea-0bdb7019b2f5"
   },
   "outputs": [
    {
     "data": {
      "text/html": [
       "<table class=\"simpletable\">\n",
       "<caption>OLS Regression Results</caption>\n",
       "<tr>\n",
       "  <th>Dep. Variable:</th>         <td>Weight</td>      <th>  R-squared:         </th> <td>   0.915</td>\n",
       "</tr>\n",
       "<tr>\n",
       "  <th>Model:</th>                   <td>OLS</td>       <th>  Adj. R-squared:    </th> <td>   0.911</td>\n",
       "</tr>\n",
       "<tr>\n",
       "  <th>Method:</th>             <td>Least Squares</td>  <th>  F-statistic:       </th> <td>   265.5</td>\n",
       "</tr>\n",
       "<tr>\n",
       "  <th>Date:</th>             <td>Sun, 09 Oct 2022</td> <th>  Prob (F-statistic):</th> <td>5.50e-52</td>\n",
       "</tr>\n",
       "<tr>\n",
       "  <th>Time:</th>                 <td>16:40:46</td>     <th>  Log-Likelihood:    </th> <td> -619.83</td>\n",
       "</tr>\n",
       "<tr>\n",
       "  <th>No. Observations:</th>      <td>   104</td>      <th>  AIC:               </th> <td>   1250.</td>\n",
       "</tr>\n",
       "<tr>\n",
       "  <th>Df Residuals:</th>          <td>    99</td>      <th>  BIC:               </th> <td>   1263.</td>\n",
       "</tr>\n",
       "<tr>\n",
       "  <th>Df Model:</th>              <td>     4</td>      <th>                     </th>     <td> </td>   \n",
       "</tr>\n",
       "<tr>\n",
       "  <th>Covariance Type:</th>      <td>nonrobust</td>    <th>                     </th>     <td> </td>   \n",
       "</tr>\n",
       "</table>\n",
       "<table class=\"simpletable\">\n",
       "<tr>\n",
       "     <td></td>        <th>coef</th>     <th>std err</th>      <th>t</th>      <th>P>|t|</th>  <th>[0.025</th>    <th>0.975]</th>  \n",
       "</tr>\n",
       "<tr>\n",
       "  <th>const</th>   <td> -453.4092</td> <td>   30.261</td> <td>  -14.983</td> <td> 0.000</td> <td> -513.454</td> <td> -393.364</td>\n",
       "</tr>\n",
       "<tr>\n",
       "  <th>Length1</th> <td>   65.3643</td> <td>   16.913</td> <td>    3.865</td> <td> 0.000</td> <td>   31.806</td> <td>   98.922</td>\n",
       "</tr>\n",
       "<tr>\n",
       "  <th>Length3</th> <td>  -45.4055</td> <td>   14.909</td> <td>   -3.046</td> <td> 0.003</td> <td>  -74.988</td> <td>  -15.823</td>\n",
       "</tr>\n",
       "<tr>\n",
       "  <th>Height</th>  <td>   42.2559</td> <td>    8.257</td> <td>    5.117</td> <td> 0.000</td> <td>   25.872</td> <td>   58.640</td>\n",
       "</tr>\n",
       "<tr>\n",
       "  <th>Width</th>   <td>   36.2094</td> <td>   19.775</td> <td>    1.831</td> <td> 0.070</td> <td>   -3.029</td> <td>   75.448</td>\n",
       "</tr>\n",
       "</table>\n",
       "<table class=\"simpletable\">\n",
       "<tr>\n",
       "  <th>Omnibus:</th>       <td>11.535</td> <th>  Durbin-Watson:     </th> <td>   1.937</td>\n",
       "</tr>\n",
       "<tr>\n",
       "  <th>Prob(Omnibus):</th> <td> 0.003</td> <th>  Jarque-Bera (JB):  </th> <td>  12.926</td>\n",
       "</tr>\n",
       "<tr>\n",
       "  <th>Skew:</th>          <td> 0.863</td> <th>  Prob(JB):          </th> <td> 0.00156</td>\n",
       "</tr>\n",
       "<tr>\n",
       "  <th>Kurtosis:</th>      <td> 2.929</td> <th>  Cond. No.          </th> <td>    147.</td>\n",
       "</tr>\n",
       "</table><br/><br/>Notes:<br/>[1] Standard Errors assume that the covariance matrix of the errors is correctly specified."
      ],
      "text/plain": [
       "<class 'statsmodels.iolib.summary.Summary'>\n",
       "\"\"\"\n",
       "                            OLS Regression Results                            \n",
       "==============================================================================\n",
       "Dep. Variable:                 Weight   R-squared:                       0.915\n",
       "Model:                            OLS   Adj. R-squared:                  0.911\n",
       "Method:                 Least Squares   F-statistic:                     265.5\n",
       "Date:                Sun, 09 Oct 2022   Prob (F-statistic):           5.50e-52\n",
       "Time:                        16:40:46   Log-Likelihood:                -619.83\n",
       "No. Observations:                 104   AIC:                             1250.\n",
       "Df Residuals:                      99   BIC:                             1263.\n",
       "Df Model:                           4                                         \n",
       "Covariance Type:            nonrobust                                         \n",
       "==============================================================================\n",
       "                 coef    std err          t      P>|t|      [0.025      0.975]\n",
       "------------------------------------------------------------------------------\n",
       "const       -453.4092     30.261    -14.983      0.000    -513.454    -393.364\n",
       "Length1       65.3643     16.913      3.865      0.000      31.806      98.922\n",
       "Length3      -45.4055     14.909     -3.046      0.003     -74.988     -15.823\n",
       "Height        42.2559      8.257      5.117      0.000      25.872      58.640\n",
       "Width         36.2094     19.775      1.831      0.070      -3.029      75.448\n",
       "==============================================================================\n",
       "Omnibus:                       11.535   Durbin-Watson:                   1.937\n",
       "Prob(Omnibus):                  0.003   Jarque-Bera (JB):               12.926\n",
       "Skew:                           0.863   Prob(JB):                      0.00156\n",
       "Kurtosis:                       2.929   Cond. No.                         147.\n",
       "==============================================================================\n",
       "\n",
       "Notes:\n",
       "[1] Standard Errors assume that the covariance matrix of the errors is correctly specified.\n",
       "\"\"\""
      ]
     },
     "execution_count": 73,
     "metadata": {},
     "output_type": "execute_result"
    }
   ],
   "source": [
    "x_train2=x_train1.drop(labels='Length2',axis=1)\n",
    "sm.OLS(y_train,sm.add_constant(x_train2)).fit().summary()\n",
    "#we are using this code to see if the accuracy is increased by drop the column with highest p value."
   ]
  },
  {
   "cell_type": "markdown",
   "id": "d38a867b",
   "metadata": {
    "id": "d38a867b"
   },
   "source": [
    "### 4. What is the mean score of the model at 95% confidence interval?"
   ]
  },
  {
   "cell_type": "code",
   "execution_count": 74,
   "id": "e30c9766",
   "metadata": {
    "id": "e30c9766",
    "outputId": "1cb25c98-aa09-48c4-ac0a-7269abe9820a"
   },
   "outputs": [
    {
     "data": {
      "text/plain": [
       "0.9020048229771828"
      ]
     },
     "execution_count": 74,
     "metadata": {},
     "output_type": "execute_result"
    }
   ],
   "source": [
    "l.score(x,y)"
   ]
  },
  {
   "cell_type": "markdown",
   "id": "e10d6689",
   "metadata": {
    "id": "e10d6689"
   },
   "source": [
    "### 5.Compare real and predicted weights and give a conclusion statement based on it?"
   ]
  },
  {
   "cell_type": "code",
   "execution_count": 75,
   "id": "2c0c50ff",
   "metadata": {
    "id": "2c0c50ff",
    "outputId": "95f382aa-a444-43f7-d09b-fd455f0494ad"
   },
   "outputs": [
    {
     "data": {
      "text/html": [
       "<div>\n",
       "<style scoped>\n",
       "    .dataframe tbody tr th:only-of-type {\n",
       "        vertical-align: middle;\n",
       "    }\n",
       "\n",
       "    .dataframe tbody tr th {\n",
       "        vertical-align: top;\n",
       "    }\n",
       "\n",
       "    .dataframe thead th {\n",
       "        text-align: right;\n",
       "    }\n",
       "</style>\n",
       "<table border=\"1\" class=\"dataframe\">\n",
       "  <thead>\n",
       "    <tr style=\"text-align: right;\">\n",
       "      <th></th>\n",
       "      <th>Actual</th>\n",
       "      <th>Predicted</th>\n",
       "      <th>Errors</th>\n",
       "    </tr>\n",
       "  </thead>\n",
       "  <tbody>\n",
       "    <tr>\n",
       "      <th>102</th>\n",
       "      <td>300.0</td>\n",
       "      <td>426.013568</td>\n",
       "      <td>-126.013568</td>\n",
       "    </tr>\n",
       "    <tr>\n",
       "      <th>146</th>\n",
       "      <td>7.5</td>\n",
       "      <td>-184.806552</td>\n",
       "      <td>192.306552</td>\n",
       "    </tr>\n",
       "    <tr>\n",
       "      <th>127</th>\n",
       "      <td>1000.0</td>\n",
       "      <td>931.012033</td>\n",
       "      <td>68.987967</td>\n",
       "    </tr>\n",
       "    <tr>\n",
       "      <th>107</th>\n",
       "      <td>300.0</td>\n",
       "      <td>435.760218</td>\n",
       "      <td>-135.760218</td>\n",
       "    </tr>\n",
       "    <tr>\n",
       "      <th>69</th>\n",
       "      <td>200.0</td>\n",
       "      <td>334.128733</td>\n",
       "      <td>-134.128733</td>\n",
       "    </tr>\n",
       "    <tr>\n",
       "      <th>150</th>\n",
       "      <td>8.7</td>\n",
       "      <td>-169.256414</td>\n",
       "      <td>177.956414</td>\n",
       "    </tr>\n",
       "    <tr>\n",
       "      <th>157</th>\n",
       "      <td>19.7</td>\n",
       "      <td>-86.278238</td>\n",
       "      <td>105.978238</td>\n",
       "    </tr>\n",
       "    <tr>\n",
       "      <th>13</th>\n",
       "      <td>340.0</td>\n",
       "      <td>565.934359</td>\n",
       "      <td>-225.934359</td>\n",
       "    </tr>\n",
       "    <tr>\n",
       "      <th>156</th>\n",
       "      <td>12.2</td>\n",
       "      <td>-149.769765</td>\n",
       "      <td>161.969765</td>\n",
       "    </tr>\n",
       "    <tr>\n",
       "      <th>1</th>\n",
       "      <td>290.0</td>\n",
       "      <td>387.683902</td>\n",
       "      <td>-97.683902</td>\n",
       "    </tr>\n",
       "    <tr>\n",
       "      <th>158</th>\n",
       "      <td>19.9</td>\n",
       "      <td>-100.440916</td>\n",
       "      <td>120.340916</td>\n",
       "    </tr>\n",
       "    <tr>\n",
       "      <th>25</th>\n",
       "      <td>725.0</td>\n",
       "      <td>674.684867</td>\n",
       "      <td>50.315133</td>\n",
       "    </tr>\n",
       "    <tr>\n",
       "      <th>141</th>\n",
       "      <td>1250.0</td>\n",
       "      <td>912.420962</td>\n",
       "      <td>337.579038</td>\n",
       "    </tr>\n",
       "    <tr>\n",
       "      <th>136</th>\n",
       "      <td>540.0</td>\n",
       "      <td>590.149823</td>\n",
       "      <td>-50.149823</td>\n",
       "    </tr>\n",
       "    <tr>\n",
       "      <th>22</th>\n",
       "      <td>620.0</td>\n",
       "      <td>641.985519</td>\n",
       "      <td>-21.985519</td>\n",
       "    </tr>\n",
       "    <tr>\n",
       "      <th>116</th>\n",
       "      <td>900.0</td>\n",
       "      <td>817.533026</td>\n",
       "      <td>82.466974</td>\n",
       "    </tr>\n",
       "    <tr>\n",
       "      <th>41</th>\n",
       "      <td>110.0</td>\n",
       "      <td>129.951230</td>\n",
       "      <td>-19.951230</td>\n",
       "    </tr>\n",
       "    <tr>\n",
       "      <th>56</th>\n",
       "      <td>270.0</td>\n",
       "      <td>273.720133</td>\n",
       "      <td>-3.720133</td>\n",
       "    </tr>\n",
       "    <tr>\n",
       "      <th>54</th>\n",
       "      <td>390.0</td>\n",
       "      <td>495.713670</td>\n",
       "      <td>-105.713670</td>\n",
       "    </tr>\n",
       "    <tr>\n",
       "      <th>139</th>\n",
       "      <td>770.0</td>\n",
       "      <td>653.241453</td>\n",
       "      <td>116.758547</td>\n",
       "    </tr>\n",
       "    <tr>\n",
       "      <th>72</th>\n",
       "      <td>5.9</td>\n",
       "      <td>-231.793097</td>\n",
       "      <td>237.693097</td>\n",
       "    </tr>\n",
       "    <tr>\n",
       "      <th>14</th>\n",
       "      <td>600.0</td>\n",
       "      <td>606.401776</td>\n",
       "      <td>-6.401776</td>\n",
       "    </tr>\n",
       "    <tr>\n",
       "      <th>138</th>\n",
       "      <td>567.0</td>\n",
       "      <td>656.822235</td>\n",
       "      <td>-89.822235</td>\n",
       "    </tr>\n",
       "    <tr>\n",
       "      <th>58</th>\n",
       "      <td>540.0</td>\n",
       "      <td>566.610576</td>\n",
       "      <td>-26.610576</td>\n",
       "    </tr>\n",
       "    <tr>\n",
       "      <th>11</th>\n",
       "      <td>500.0</td>\n",
       "      <td>578.809179</td>\n",
       "      <td>-78.809179</td>\n",
       "    </tr>\n",
       "    <tr>\n",
       "      <th>47</th>\n",
       "      <td>160.0</td>\n",
       "      <td>221.562883</td>\n",
       "      <td>-61.562883</td>\n",
       "    </tr>\n",
       "    <tr>\n",
       "      <th>59</th>\n",
       "      <td>800.0</td>\n",
       "      <td>693.285224</td>\n",
       "      <td>106.714776</td>\n",
       "    </tr>\n",
       "    <tr>\n",
       "      <th>4</th>\n",
       "      <td>430.0</td>\n",
       "      <td>454.983361</td>\n",
       "      <td>-24.983361</td>\n",
       "    </tr>\n",
       "    <tr>\n",
       "      <th>91</th>\n",
       "      <td>130.0</td>\n",
       "      <td>158.485627</td>\n",
       "      <td>-28.485627</td>\n",
       "    </tr>\n",
       "    <tr>\n",
       "      <th>145</th>\n",
       "      <td>6.7</td>\n",
       "      <td>-210.889209</td>\n",
       "      <td>217.589209</td>\n",
       "    </tr>\n",
       "    <tr>\n",
       "      <th>70</th>\n",
       "      <td>273.0</td>\n",
       "      <td>399.390862</td>\n",
       "      <td>-126.390862</td>\n",
       "    </tr>\n",
       "    <tr>\n",
       "      <th>95</th>\n",
       "      <td>170.0</td>\n",
       "      <td>201.874868</td>\n",
       "      <td>-31.874868</td>\n",
       "    </tr>\n",
       "    <tr>\n",
       "      <th>7</th>\n",
       "      <td>390.0</td>\n",
       "      <td>476.392465</td>\n",
       "      <td>-86.392465</td>\n",
       "    </tr>\n",
       "    <tr>\n",
       "      <th>19</th>\n",
       "      <td>650.0</td>\n",
       "      <td>655.353234</td>\n",
       "      <td>-5.353234</td>\n",
       "    </tr>\n",
       "    <tr>\n",
       "      <th>21</th>\n",
       "      <td>685.0</td>\n",
       "      <td>701.513060</td>\n",
       "      <td>-16.513060</td>\n",
       "    </tr>\n",
       "    <tr>\n",
       "      <th>90</th>\n",
       "      <td>110.0</td>\n",
       "      <td>151.234598</td>\n",
       "      <td>-41.234598</td>\n",
       "    </tr>\n",
       "    <tr>\n",
       "      <th>94</th>\n",
       "      <td>150.0</td>\n",
       "      <td>142.369529</td>\n",
       "      <td>7.630471</td>\n",
       "    </tr>\n",
       "    <tr>\n",
       "      <th>87</th>\n",
       "      <td>120.0</td>\n",
       "      <td>134.257382</td>\n",
       "      <td>-14.257382</td>\n",
       "    </tr>\n",
       "    <tr>\n",
       "      <th>131</th>\n",
       "      <td>300.0</td>\n",
       "      <td>412.553173</td>\n",
       "      <td>-112.553173</td>\n",
       "    </tr>\n",
       "    <tr>\n",
       "      <th>112</th>\n",
       "      <td>685.0</td>\n",
       "      <td>721.016997</td>\n",
       "      <td>-36.016997</td>\n",
       "    </tr>\n",
       "    <tr>\n",
       "      <th>8</th>\n",
       "      <td>450.0</td>\n",
       "      <td>535.878476</td>\n",
       "      <td>-85.878476</td>\n",
       "    </tr>\n",
       "    <tr>\n",
       "      <th>45</th>\n",
       "      <td>160.0</td>\n",
       "      <td>168.808429</td>\n",
       "      <td>-8.808429</td>\n",
       "    </tr>\n",
       "    <tr>\n",
       "      <th>121</th>\n",
       "      <td>1015.0</td>\n",
       "      <td>831.777347</td>\n",
       "      <td>183.222653</td>\n",
       "    </tr>\n",
       "    <tr>\n",
       "      <th>36</th>\n",
       "      <td>69.0</td>\n",
       "      <td>19.279454</td>\n",
       "      <td>49.720546</td>\n",
       "    </tr>\n",
       "    <tr>\n",
       "      <th>35</th>\n",
       "      <td>40.0</td>\n",
       "      <td>-83.707638</td>\n",
       "      <td>123.707638</td>\n",
       "    </tr>\n",
       "    <tr>\n",
       "      <th>42</th>\n",
       "      <td>120.0</td>\n",
       "      <td>123.895574</td>\n",
       "      <td>-3.895574</td>\n",
       "    </tr>\n",
       "    <tr>\n",
       "      <th>3</th>\n",
       "      <td>363.0</td>\n",
       "      <td>430.864271</td>\n",
       "      <td>-67.864271</td>\n",
       "    </tr>\n",
       "    <tr>\n",
       "      <th>128</th>\n",
       "      <td>200.0</td>\n",
       "      <td>269.863003</td>\n",
       "      <td>-69.863003</td>\n",
       "    </tr>\n",
       "    <tr>\n",
       "      <th>119</th>\n",
       "      <td>850.0</td>\n",
       "      <td>788.388809</td>\n",
       "      <td>61.611191</td>\n",
       "    </tr>\n",
       "    <tr>\n",
       "      <th>28</th>\n",
       "      <td>850.0</td>\n",
       "      <td>735.909981</td>\n",
       "      <td>114.090019</td>\n",
       "    </tr>\n",
       "    <tr>\n",
       "      <th>137</th>\n",
       "      <td>500.0</td>\n",
       "      <td>567.834658</td>\n",
       "      <td>-67.834658</td>\n",
       "    </tr>\n",
       "    <tr>\n",
       "      <th>63</th>\n",
       "      <td>90.0</td>\n",
       "      <td>124.806224</td>\n",
       "      <td>-34.806224</td>\n",
       "    </tr>\n",
       "  </tbody>\n",
       "</table>\n",
       "</div>"
      ],
      "text/plain": [
       "     Actual   Predicted      Errors\n",
       "102   300.0  426.013568 -126.013568\n",
       "146     7.5 -184.806552  192.306552\n",
       "127  1000.0  931.012033   68.987967\n",
       "107   300.0  435.760218 -135.760218\n",
       "69    200.0  334.128733 -134.128733\n",
       "150     8.7 -169.256414  177.956414\n",
       "157    19.7  -86.278238  105.978238\n",
       "13    340.0  565.934359 -225.934359\n",
       "156    12.2 -149.769765  161.969765\n",
       "1     290.0  387.683902  -97.683902\n",
       "158    19.9 -100.440916  120.340916\n",
       "25    725.0  674.684867   50.315133\n",
       "141  1250.0  912.420962  337.579038\n",
       "136   540.0  590.149823  -50.149823\n",
       "22    620.0  641.985519  -21.985519\n",
       "116   900.0  817.533026   82.466974\n",
       "41    110.0  129.951230  -19.951230\n",
       "56    270.0  273.720133   -3.720133\n",
       "54    390.0  495.713670 -105.713670\n",
       "139   770.0  653.241453  116.758547\n",
       "72      5.9 -231.793097  237.693097\n",
       "14    600.0  606.401776   -6.401776\n",
       "138   567.0  656.822235  -89.822235\n",
       "58    540.0  566.610576  -26.610576\n",
       "11    500.0  578.809179  -78.809179\n",
       "47    160.0  221.562883  -61.562883\n",
       "59    800.0  693.285224  106.714776\n",
       "4     430.0  454.983361  -24.983361\n",
       "91    130.0  158.485627  -28.485627\n",
       "145     6.7 -210.889209  217.589209\n",
       "70    273.0  399.390862 -126.390862\n",
       "95    170.0  201.874868  -31.874868\n",
       "7     390.0  476.392465  -86.392465\n",
       "19    650.0  655.353234   -5.353234\n",
       "21    685.0  701.513060  -16.513060\n",
       "90    110.0  151.234598  -41.234598\n",
       "94    150.0  142.369529    7.630471\n",
       "87    120.0  134.257382  -14.257382\n",
       "131   300.0  412.553173 -112.553173\n",
       "112   685.0  721.016997  -36.016997\n",
       "8     450.0  535.878476  -85.878476\n",
       "45    160.0  168.808429   -8.808429\n",
       "121  1015.0  831.777347  183.222653\n",
       "36     69.0   19.279454   49.720546\n",
       "35     40.0  -83.707638  123.707638\n",
       "42    120.0  123.895574   -3.895574\n",
       "3     363.0  430.864271  -67.864271\n",
       "128   200.0  269.863003  -69.863003\n",
       "119   850.0  788.388809   61.611191\n",
       "28    850.0  735.909981  114.090019\n",
       "137   500.0  567.834658  -67.834658\n",
       "63     90.0  124.806224  -34.806224"
      ]
     },
     "execution_count": 75,
     "metadata": {},
     "output_type": "execute_result"
    }
   ],
   "source": [
    "d=pd.DataFrame({'Actual':y_test,'Predicted': test_pred,'Errors':error2})\n",
    "d"
   ]
  },
  {
   "cell_type": "markdown",
   "id": "983c05e4",
   "metadata": {
    "id": "983c05e4"
   },
   "source": [
    "#### dec 7 extra point in reguralisation"
   ]
  },
  {
   "cell_type": "code",
   "execution_count": 76,
   "id": "14984e9c",
   "metadata": {
    "id": "14984e9c"
   },
   "outputs": [],
   "source": [
    "from sklearn.linear_model import Ridge,Lasso"
   ]
  },
  {
   "cell_type": "code",
   "execution_count": 77,
   "id": "8ee04c3b",
   "metadata": {
    "id": "8ee04c3b",
    "outputId": "961f2f0d-4449-41b1-e41b-1e403e4324a4"
   },
   "outputs": [
    {
     "data": {
      "text/plain": [
       "Lasso(max_iter=5000)"
      ]
     },
     "execution_count": 77,
     "metadata": {},
     "output_type": "execute_result"
    }
   ],
   "source": [
    "d=Lasso(max_iter=5000)\n",
    "d.fit(x_train,y_train)"
   ]
  },
  {
   "cell_type": "code",
   "execution_count": 78,
   "id": "127af7a6",
   "metadata": {
    "id": "127af7a6",
    "outputId": "3109c9b0-ff23-4c6d-c086-a5cec7225e64"
   },
   "outputs": [
    {
     "data": {
      "text/plain": [
       "array([ 82.26108141, -25.14201876, -36.93628705,  39.96055324,\n",
       "        42.04887442])"
      ]
     },
     "execution_count": 78,
     "metadata": {},
     "output_type": "execute_result"
    }
   ],
   "source": [
    "d.coef_"
   ]
  },
  {
   "cell_type": "code",
   "execution_count": 79,
   "id": "44b90f56",
   "metadata": {
    "id": "44b90f56",
    "outputId": "35c59796-3b37-4018-cc2e-f66d37289bbe"
   },
   "outputs": [
    {
     "data": {
      "text/plain": [
       "-451.7881735799368"
      ]
     },
     "execution_count": 79,
     "metadata": {},
     "output_type": "execute_result"
    }
   ],
   "source": [
    "d.intercept_"
   ]
  },
  {
   "cell_type": "code",
   "execution_count": 80,
   "id": "aa0ef548",
   "metadata": {
    "id": "aa0ef548",
    "outputId": "34b49d90-8321-4031-fd3b-8bdeaa72bf03"
   },
   "outputs": [
    {
     "data": {
      "text/plain": [
       "Ridge()"
      ]
     },
     "execution_count": 80,
     "metadata": {},
     "output_type": "execute_result"
    }
   ],
   "source": [
    "g=Ridge()\n",
    "g.fit(x_train,y_train)"
   ]
  },
  {
   "cell_type": "code",
   "execution_count": 81,
   "id": "4bfdd17e",
   "metadata": {
    "id": "4bfdd17e",
    "outputId": "2d7fdcd3-3f00-41aa-f98c-5808c7234a0f"
   },
   "outputs": [
    {
     "data": {
      "text/plain": [
       "array([ 94.78644822, -37.55690648, -36.80718128,  40.60914766,\n",
       "        44.55479497])"
      ]
     },
     "execution_count": 81,
     "metadata": {},
     "output_type": "execute_result"
    }
   ],
   "source": [
    "g.coef_"
   ]
  },
  {
   "cell_type": "code",
   "execution_count": 82,
   "id": "b90875a5",
   "metadata": {
    "id": "b90875a5",
    "outputId": "1eea80a0-102e-4b01-8d6c-2b2cf1c17b25"
   },
   "outputs": [
    {
     "data": {
      "text/plain": [
       "Ridge(alpha=0.1)"
      ]
     },
     "execution_count": 82,
     "metadata": {},
     "output_type": "execute_result"
    }
   ],
   "source": [
    "g=Ridge(alpha=0.1)\n",
    "g.fit(x_train,y_train)"
   ]
  },
  {
   "cell_type": "code",
   "execution_count": 83,
   "id": "1fcaca8c",
   "metadata": {
    "id": "1fcaca8c",
    "outputId": "f9e6abce-6e76-45a5-d0f5-957aad69b52e"
   },
   "outputs": [
    {
     "data": {
      "text/plain": [
       "array([112.69644658, -54.57570143, -37.10971409,  41.81486406,\n",
       "        46.34998381])"
      ]
     },
     "execution_count": 83,
     "metadata": {},
     "output_type": "execute_result"
    }
   ],
   "source": [
    "g.coef_"
   ]
  },
  {
   "cell_type": "code",
   "execution_count": 84,
   "id": "22b175fe",
   "metadata": {
    "id": "22b175fe",
    "outputId": "a26cde98-d508-4095-acdd-e2c59fefd319"
   },
   "outputs": [
    {
     "data": {
      "text/plain": [
       "Ridge(alpha=0.02)"
      ]
     },
     "execution_count": 84,
     "metadata": {},
     "output_type": "execute_result"
    }
   ],
   "source": [
    "g=Ridge(alpha=0.02)\n",
    "g.fit(x_train,y_train)"
   ]
  },
  {
   "cell_type": "code",
   "execution_count": 85,
   "id": "a4d45712",
   "metadata": {
    "id": "a4d45712",
    "outputId": "f7ca25b0-be3a-4006-d866-fe97472e5f29"
   },
   "outputs": [
    {
     "data": {
      "text/plain": [
       "array([114.73036744, -56.54063857, -37.1118381 ,  41.93976592,\n",
       "        46.56032198])"
      ]
     },
     "execution_count": 85,
     "metadata": {},
     "output_type": "execute_result"
    }
   ],
   "source": [
    "g.coef_"
   ]
  },
  {
   "cell_type": "code",
   "execution_count": 86,
   "id": "8349c3a4",
   "metadata": {
    "id": "8349c3a4",
    "outputId": "6ecf1ef9-10a4-4f88-e9b6-c7fb0404e5ca"
   },
   "outputs": [
    {
     "data": {
      "text/plain": [
       "-444.80522430504425"
      ]
     },
     "execution_count": 86,
     "metadata": {},
     "output_type": "execute_result"
    }
   ],
   "source": [
    "g.intercept_"
   ]
  },
  {
   "cell_type": "code",
   "execution_count": 87,
   "id": "69164e28",
   "metadata": {
    "id": "69164e28",
    "outputId": "a4d28cbd-5d95-4dbd-82d4-07580205feff"
   },
   "outputs": [
    {
     "data": {
      "text/plain": [
       "array([ 213.5037565 ,  346.63150757,   51.15660797,  630.53730959,\n",
       "        562.18731193,  897.88996744,  265.32547427,  418.58665441,\n",
       "        908.38502721,  475.15274354,  225.42226074,  127.66674652,\n",
       "        853.38237362,  280.85817737,  245.06763449,  552.50560919,\n",
       "        154.12787878,  206.19488248,   52.29066105,  821.40348586,\n",
       "        161.88724734, -198.56083239,   67.4678307 ,  738.48437265,\n",
       "        662.65477362,  364.9471083 ,  549.74493156,  647.90613393,\n",
       "        347.46623032,  612.6947998 ,  816.429014  ,  212.22479489,\n",
       "        129.08271846,  710.88674585,  155.29682879,  788.93929567,\n",
       "        260.65212162, -166.89708876,   82.57663726,  748.36979435,\n",
       "        892.98492423,  429.93947152,   92.75823449,  750.88603876,\n",
       "        342.84679037,   25.94415004,  835.39845668,  450.07133789,\n",
       "        176.96481879,  212.46060078,  289.3016409 ,  854.41524374,\n",
       "        360.11109086,  268.08774904,  159.74681606,  802.57817622,\n",
       "         86.50011625,  378.15985873,  926.97519053,  361.80737004,\n",
       "        660.44894771, -149.2702629 ,  153.29722569,   76.99232441,\n",
       "        228.25731894,  164.68755881,  732.70468297,  772.18250617,\n",
       "        897.03522297,   33.69386899,  181.39925579, -170.28975628,\n",
       "        150.70650968,  858.83974004,  391.35910272,  -85.88879106,\n",
       "        539.04958342,  334.05292807,  639.6568814 ,  -29.62410617,\n",
       "        702.75381251,  520.36459603,  252.68356484, -165.28568389,\n",
       "        272.89942627,  706.25804704,  198.16311805,  560.73907391,\n",
       "        338.76049845,  643.43490658,  254.57612644,  339.35507556,\n",
       "        188.1460688 ,  500.9129849 ,  133.81321683,   84.39609731,\n",
       "        680.44056522, -160.3281216 , -165.33176085, -174.24452513,\n",
       "        307.79388434,   85.49676414,  620.67721434,  697.06670414])"
      ]
     },
     "execution_count": 87,
     "metadata": {},
     "output_type": "execute_result"
    }
   ],
   "source": [
    "train_pred=d.predict(x_train)\n",
    "train_pred"
   ]
  },
  {
   "cell_type": "code",
   "execution_count": 88,
   "id": "ec3b683d",
   "metadata": {
    "id": "ec3b683d"
   },
   "outputs": [],
   "source": [
    "error=y_train-train_pred"
   ]
  },
  {
   "cell_type": "code",
   "execution_count": 89,
   "id": "36828aeb",
   "metadata": {
    "id": "36828aeb",
    "outputId": "01487947-7339-4962-cb2f-bcb0310f2e0a"
   },
   "outputs": [
    {
     "data": {
      "text/plain": [
       "66     -73.503757\n",
       "130    -46.631508\n",
       "61       3.843392\n",
       "109   -116.537310\n",
       "134   -106.187312\n",
       "          ...    \n",
       "149    184.044525\n",
       "129     -7.793884\n",
       "38       1.503236\n",
       "16      79.322786\n",
       "114      2.933296\n",
       "Name: Weight, Length: 104, dtype: float64"
      ]
     },
     "execution_count": 89,
     "metadata": {},
     "output_type": "execute_result"
    }
   ],
   "source": [
    "error"
   ]
  },
  {
   "cell_type": "code",
   "execution_count": 90,
   "id": "8d465090",
   "metadata": {
    "id": "8d465090"
   },
   "outputs": [],
   "source": [
    "from sklearn.model_selection import cross_val_score"
   ]
  },
  {
   "cell_type": "code",
   "execution_count": 91,
   "id": "c47e8439",
   "metadata": {
    "id": "c47e8439"
   },
   "outputs": [],
   "source": [
    "s=Lasso(max_iter=10000)"
   ]
  },
  {
   "cell_type": "code",
   "execution_count": 92,
   "id": "a2b23754",
   "metadata": {
    "id": "a2b23754",
    "outputId": "aaf2e96c-6f69-4819-c66a-47f2db5b1ad4"
   },
   "outputs": [
    {
     "data": {
      "text/plain": [
       "array([0.91644085, 0.90973047, 0.91288799, 0.90015545, 0.85450879])"
      ]
     },
     "execution_count": 92,
     "metadata": {},
     "output_type": "execute_result"
    }
   ],
   "source": [
    "c=cross_val_score(s,x_train,y_train)\n",
    "c#out put is accuracy value"
   ]
  },
  {
   "cell_type": "code",
   "execution_count": 93,
   "id": "29d6e293",
   "metadata": {
    "id": "29d6e293",
    "outputId": "895ca5b2-5916-4d1a-f885-d9a7c8ee7fd0"
   },
   "outputs": [
    {
     "data": {
      "text/plain": [
       "array([0.91786994, 0.90731281, 0.91141308, 0.90700058, 0.8577331 ])"
      ]
     },
     "execution_count": 93,
     "metadata": {},
     "output_type": "execute_result"
    }
   ],
   "source": [
    "c=cross_val_score(l,x_train,y_train)\n",
    "c"
   ]
  },
  {
   "cell_type": "code",
   "execution_count": 94,
   "id": "cba8eae9",
   "metadata": {
    "id": "cba8eae9",
    "outputId": "de0c810b-e2c8-4455-d15f-376bc08a9582"
   },
   "outputs": [
    {
     "data": {
      "text/plain": [
       "<AxesSubplot:>"
      ]
     },
     "execution_count": 94,
     "metadata": {},
     "output_type": "execute_result"
    },
    {
     "data": {
      "image/png": "[encoded data removed]",
      "text/plain": [
       "<Figure size 432x288 with 1 Axes>"
      ]
     },
     "metadata": {
      "needs_background": "light"
     },
     "output_type": "display_data"
    }
   ],
   "source": [
    "sns.boxplot(data=c)"
   ]
  },
  {
   "cell_type": "code",
   "execution_count": null,
   "id": "2f526347",
   "metadata": {
    "id": "2f526347"
   },
   "outputs": [],
   "source": []
  },
  {
   "cell_type": "code",
   "execution_count": null,
   "id": "bb34c5cd",
   "metadata": {},
   "outputs": [],
   "source": []
  }
 ],
 "metadata": {
  "colab": {
   "provenance": []
  },
  "kernelspec": {
   "display_name": "Python 3 (ipykernel)",
   "language": "python",
   "name": "python3"
  },
  "language_info": {
   "codemirror_mode": {
    "name": "ipython",
    "version": 3
   },
   "file_extension": ".py",
   "mimetype": "text/x-python",
   "name": "python",
   "nbconvert_exporter": "python",
   "pygments_lexer": "ipython3",
   "version": "3.9.12"
  }
 },
 "nbformat": 4,
 "nbformat_minor": 5
}
